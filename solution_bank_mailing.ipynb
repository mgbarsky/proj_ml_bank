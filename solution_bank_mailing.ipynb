{
 "cells": [
  {
   "cell_type": "markdown",
   "metadata": {},
   "source": [
    "# Profiting from classifiers\n",
    "### Mini-project\n",
    "In this project you apply your classification skills for solving a business problem.\n",
    "\n",
    "Imagine that you are working for a bank. Last year the bank sent a mass direct mailing offer to promote the Personal Equity Plan (PEP). You collected the information about customers and their responses into the dataset [bank_data.csv](https://drive.google.com/file/d/13VEWvirEi-AQwQzZwVZxDSKwym0vAvIk/view?usp=sharing). \n",
    "\n",
    "You want to make use of these data to design a new mailing campaign with a higher response rate. The ultimate goal is to spend less for the campaign, but increase the overall profit (number of respondents).\n",
    "\n",
    "The idea is to build a classification model from historical data, and use this classifier on new customers to predict who is more likely to respond. We can then selectively target only these customers, and not waste the effort on unpromising customer groups."
   ]
  },
  {
   "cell_type": "markdown",
   "metadata": {},
   "source": [
    "## Part 1. Building a model"
   ]
  },
  {
   "cell_type": "markdown",
   "metadata": {},
   "source": [
    "### 1.1. Data exploration and preparation"
   ]
  },
  {
   "cell_type": "code",
   "execution_count": 21,
   "metadata": {},
   "outputs": [],
   "source": [
    "file_name = \"C:/Users/10705/Desktop/Notebooks/proj_ml_bank/bank-data.csv\""
   ]
  },
  {
   "cell_type": "code",
   "execution_count": 22,
   "metadata": {},
   "outputs": [],
   "source": [
    "import pandas as pd\n",
    "import numpy as np\n",
    "import matplotlib.pyplot as plt\n",
    "%matplotlib inline\n",
    "import seaborn as sns\n",
    "\n",
    "# this creates a pandas.DataFrame using the id column for indexing\n",
    "data = pd.read_csv(file_name, index_col ='id')"
   ]
  },
  {
   "cell_type": "code",
   "execution_count": 23,
   "metadata": {},
   "outputs": [
    {
     "data": {
      "text/plain": [
       "Index(['age', 'sex', 'region', 'income', 'married', 'children', 'car',\n",
       "       'save_act', 'current_act', 'mortgage', 'pep'],\n",
       "      dtype='object')"
      ]
     },
     "execution_count": 23,
     "metadata": {},
     "output_type": "execute_result"
    }
   ],
   "source": [
    "data.columns"
   ]
  },
  {
   "cell_type": "code",
   "execution_count": 24,
   "metadata": {},
   "outputs": [
    {
     "data": {
      "text/html": [
       "<div>\n",
       "<style scoped>\n",
       "    .dataframe tbody tr th:only-of-type {\n",
       "        vertical-align: middle;\n",
       "    }\n",
       "\n",
       "    .dataframe tbody tr th {\n",
       "        vertical-align: top;\n",
       "    }\n",
       "\n",
       "    .dataframe thead th {\n",
       "        text-align: right;\n",
       "    }\n",
       "</style>\n",
       "<table border=\"1\" class=\"dataframe\">\n",
       "  <thead>\n",
       "    <tr style=\"text-align: right;\">\n",
       "      <th></th>\n",
       "      <th>age</th>\n",
       "      <th>sex</th>\n",
       "      <th>region</th>\n",
       "      <th>income</th>\n",
       "      <th>married</th>\n",
       "      <th>children</th>\n",
       "      <th>car</th>\n",
       "      <th>save_act</th>\n",
       "      <th>current_act</th>\n",
       "      <th>mortgage</th>\n",
       "      <th>pep</th>\n",
       "    </tr>\n",
       "    <tr>\n",
       "      <th>id</th>\n",
       "      <th></th>\n",
       "      <th></th>\n",
       "      <th></th>\n",
       "      <th></th>\n",
       "      <th></th>\n",
       "      <th></th>\n",
       "      <th></th>\n",
       "      <th></th>\n",
       "      <th></th>\n",
       "      <th></th>\n",
       "      <th></th>\n",
       "    </tr>\n",
       "  </thead>\n",
       "  <tbody>\n",
       "    <tr>\n",
       "      <th>ID12101</th>\n",
       "      <td>48</td>\n",
       "      <td>FEMALE</td>\n",
       "      <td>INNER_CITY</td>\n",
       "      <td>17546.0</td>\n",
       "      <td>NO</td>\n",
       "      <td>1</td>\n",
       "      <td>NO</td>\n",
       "      <td>NO</td>\n",
       "      <td>NO</td>\n",
       "      <td>NO</td>\n",
       "      <td>YES</td>\n",
       "    </tr>\n",
       "    <tr>\n",
       "      <th>ID12102</th>\n",
       "      <td>40</td>\n",
       "      <td>MALE</td>\n",
       "      <td>TOWN</td>\n",
       "      <td>30085.1</td>\n",
       "      <td>YES</td>\n",
       "      <td>3</td>\n",
       "      <td>YES</td>\n",
       "      <td>NO</td>\n",
       "      <td>YES</td>\n",
       "      <td>YES</td>\n",
       "      <td>NO</td>\n",
       "    </tr>\n",
       "    <tr>\n",
       "      <th>ID12103</th>\n",
       "      <td>51</td>\n",
       "      <td>FEMALE</td>\n",
       "      <td>INNER_CITY</td>\n",
       "      <td>16575.4</td>\n",
       "      <td>YES</td>\n",
       "      <td>0</td>\n",
       "      <td>YES</td>\n",
       "      <td>YES</td>\n",
       "      <td>YES</td>\n",
       "      <td>NO</td>\n",
       "      <td>NO</td>\n",
       "    </tr>\n",
       "    <tr>\n",
       "      <th>ID12104</th>\n",
       "      <td>23</td>\n",
       "      <td>FEMALE</td>\n",
       "      <td>TOWN</td>\n",
       "      <td>20375.4</td>\n",
       "      <td>YES</td>\n",
       "      <td>3</td>\n",
       "      <td>NO</td>\n",
       "      <td>NO</td>\n",
       "      <td>YES</td>\n",
       "      <td>NO</td>\n",
       "      <td>NO</td>\n",
       "    </tr>\n",
       "    <tr>\n",
       "      <th>ID12105</th>\n",
       "      <td>57</td>\n",
       "      <td>FEMALE</td>\n",
       "      <td>RURAL</td>\n",
       "      <td>50576.3</td>\n",
       "      <td>YES</td>\n",
       "      <td>0</td>\n",
       "      <td>NO</td>\n",
       "      <td>YES</td>\n",
       "      <td>NO</td>\n",
       "      <td>NO</td>\n",
       "      <td>NO</td>\n",
       "    </tr>\n",
       "  </tbody>\n",
       "</table>\n",
       "</div>"
      ],
      "text/plain": [
       "         age     sex      region   income married  children  car save_act  \\\n",
       "id                                                                          \n",
       "ID12101   48  FEMALE  INNER_CITY  17546.0      NO         1   NO       NO   \n",
       "ID12102   40    MALE        TOWN  30085.1     YES         3  YES       NO   \n",
       "ID12103   51  FEMALE  INNER_CITY  16575.4     YES         0  YES      YES   \n",
       "ID12104   23  FEMALE        TOWN  20375.4     YES         3   NO       NO   \n",
       "ID12105   57  FEMALE       RURAL  50576.3     YES         0   NO      YES   \n",
       "\n",
       "        current_act mortgage  pep  \n",
       "id                                 \n",
       "ID12101          NO       NO  YES  \n",
       "ID12102         YES      YES   NO  \n",
       "ID12103         YES       NO   NO  \n",
       "ID12104         YES       NO   NO  \n",
       "ID12105          NO       NO   NO  "
      ]
     },
     "execution_count": 24,
     "metadata": {},
     "output_type": "execute_result"
    }
   ],
   "source": [
    "data.head()"
   ]
  },
  {
   "cell_type": "markdown",
   "metadata": {},
   "source": [
    "The dataset contains the following variables/attributes for each potential customer: \n",
    "- id (String)\n",
    "- age (int)\n",
    "- sex {FEMALE,MALE}\n",
    "- region {INNER_CITY,TOWN,RURAL,SUBURBAN}\n",
    "- income (int)\n",
    "- married {YES, NO}\n",
    "- children (int)\n",
    "- car {YES, NO}\n",
    "- save_act - Saving account in our bank {Yes, No}\n",
    "- current_act - Current account in our bank {YES, NO}\n",
    "- mortgage {YES, NO}\n",
    "\n",
    "And the last attribute - pep {YES, NO} is a target attribute: whether a customer responded to our promotion mail and joined a Personal Equity Plan."
   ]
  },
  {
   "cell_type": "markdown",
   "metadata": {},
   "source": [
    "To see correlation between attributes and response, we convert all attributes to numeric: ."
   ]
  },
  {
   "cell_type": "code",
   "execution_count": 25,
   "metadata": {},
   "outputs": [],
   "source": [
    "# First, create a copy of the original data frame - to make a fully numeric dataset\n",
    "df_num = data.copy()\n",
    "\n",
    "# we need to replace 'sex', 'region', 'married', 'car', 'save_act', 'current_act', 'mortgage', 'pep'"
   ]
  },
  {
   "cell_type": "markdown",
   "metadata": {},
   "source": [
    "The boolean values can be replaced with [0,1]."
   ]
  },
  {
   "cell_type": "code",
   "execution_count": 26,
   "metadata": {},
   "outputs": [
    {
     "name": "stdout",
     "output_type": "stream",
     "text": [
      "['FEMALE' 'MALE']\n",
      "['NO' 'YES']\n",
      "['NO' 'YES']\n",
      "['NO' 'YES']\n",
      "['NO' 'YES']\n",
      "['NO' 'YES']\n",
      "['YES' 'NO']\n"
     ]
    }
   ],
   "source": [
    "print(df_num['sex'].unique())\n",
    "print(df_num['married'].unique())\n",
    "print(df_num['car'].unique())\n",
    "print(df_num['save_act'].unique())\n",
    "print(df_num['current_act'].unique())\n",
    "print(df_num['mortgage'].unique())\n",
    "print(df_num['pep'].unique())"
   ]
  },
  {
   "cell_type": "code",
   "execution_count": 27,
   "metadata": {},
   "outputs": [],
   "source": [
    "df_num['sex'].replace(['FEMALE', 'MALE'], [0,1], inplace=True)\n",
    "\n",
    "df_num['married'].replace(['NO', 'YES'], [0,1], inplace=True)\n",
    "df_num['car'].replace(['NO', 'YES'], [0,1], inplace=True)\n",
    "df_num['save_act'].replace(['NO', 'YES'], [0,1], inplace=True)\n",
    "df_num['current_act'].replace(['NO', 'YES'], [0,1], inplace=True)\n",
    "df_num['mortgage'].replace(['NO', 'YES'], [0,1], inplace=True)\n",
    "df_num['pep'].replace(['NO', 'YES'], [0,1], inplace=True)"
   ]
  },
  {
   "cell_type": "code",
   "execution_count": 28,
   "metadata": {},
   "outputs": [
    {
     "name": "stdout",
     "output_type": "stream",
     "text": [
      "['INNER_CITY' 'TOWN' 'RURAL' 'SUBURBAN']\n",
      "[1 3 0 2]\n"
     ]
    }
   ],
   "source": [
    "print(df_num['region'].unique())\n",
    "print(df_num['children'].unique())"
   ]
  },
  {
   "cell_type": "markdown",
   "metadata": {},
   "source": [
    "The 'region' attribute with cardinality 4 should be replaced using [one hot encoding](https://datagy.io/sklearn-one-hot-encode/). Please refresh your knowledge about converting categorical attributes into numerics (binary)."
   ]
  },
  {
   "cell_type": "code",
   "execution_count": 29,
   "metadata": {},
   "outputs": [],
   "source": [
    "# One-hot encoding a single column - region - using pandas\n",
    "# use pd.concat to join the new columns with your original dataframe\n",
    "df_num = pd.concat([df_num,pd.get_dummies(df_num['region'], prefix='region')],axis=1)\n",
    "\n",
    "# now drop the original 'region' column (you don't need it anymore)\n",
    "df_num.drop(['region'],axis=1, inplace=True)"
   ]
  },
  {
   "cell_type": "markdown",
   "metadata": {},
   "source": [
    "For the attribute 'children' there are only 4 distinct values - it is not a truly numeric attribute, it is rather an ordinal attribute. It also does not seem reasonable to assume that the difference between childless families and the families with 1 child is the same as the difference between 1-child and 2-child families. So we should probably treat the number of children as a categorical attribute with cardinality 4.  "
   ]
  },
  {
   "cell_type": "code",
   "execution_count": 30,
   "metadata": {},
   "outputs": [],
   "source": [
    "df_num['children'].replace([0,1,2,3], [\"zero\",\"one\", \"two\", \"three\"], inplace=True)"
   ]
  },
  {
   "cell_type": "code",
   "execution_count": 31,
   "metadata": {},
   "outputs": [],
   "source": [
    "df_num = pd.concat([df_num,pd.get_dummies(df_num['children'], prefix='children')],axis=1)\n",
    "\n",
    "# now drop the original 'country' column (you don't need it anymore)\n",
    "df_num.drop(['children'],axis=1, inplace=True)"
   ]
  },
  {
   "cell_type": "markdown",
   "metadata": {},
   "source": [
    "Reordering to place the target variable into the first column."
   ]
  },
  {
   "cell_type": "code",
   "execution_count": 32,
   "metadata": {},
   "outputs": [],
   "source": [
    "target = df_num.pop(\"pep\")\n",
    "\n",
    "df_num.insert(0, target.name, target)"
   ]
  },
  {
   "cell_type": "code",
   "execution_count": 33,
   "metadata": {},
   "outputs": [
    {
     "data": {
      "text/plain": [
       "Index(['pep', 'age', 'sex', 'income', 'married', 'car', 'save_act',\n",
       "       'current_act', 'mortgage', 'region_INNER_CITY', 'region_RURAL',\n",
       "       'region_SUBURBAN', 'region_TOWN', 'children_one', 'children_three',\n",
       "       'children_two', 'children_zero'],\n",
       "      dtype='object')"
      ]
     },
     "execution_count": 33,
     "metadata": {},
     "output_type": "execute_result"
    }
   ],
   "source": [
    "df_num.columns"
   ]
  },
  {
   "cell_type": "code",
   "execution_count": 34,
   "metadata": {},
   "outputs": [
    {
     "data": {
      "text/plain": [
       "<AxesSubplot:>"
      ]
     },
     "execution_count": 34,
     "metadata": {},
     "output_type": "execute_result"
    },
    {
     "data": {
      "image/png": "[encoded data removed]",
      "text/plain": [
       "<Figure size 720x576 with 2 Axes>"
      ]
     },
     "metadata": {
      "needs_background": "light"
     },
     "output_type": "display_data"
    }
   ],
   "source": [
    "fig, ax = plt.subplots(figsize=(10,8)) \n",
    "corr = df_num.corr()\n",
    "sns.heatmap(corr, center=0, annot=True, linewidths=.1, ax=ax)"
   ]
  },
  {
   "cell_type": "code",
   "execution_count": 35,
   "metadata": {},
   "outputs": [
    {
     "name": "stdout",
     "output_type": "stream",
     "text": [
      "         age  sex    income  married  car  save_act  current_act  mortgage  \\\n",
      "id                                                                           \n",
      "ID12101   48    0  17546.00        0    0         0            0         0   \n",
      "ID12102   40    1  30085.10        1    1         0            1         1   \n",
      "ID12103   51    0  16575.40        1    1         1            1         0   \n",
      "ID12104   23    0  20375.40        1    0         0            1         0   \n",
      "ID12105   57    0  50576.30        1    0         1            0         0   \n",
      "...      ...  ...       ...      ...  ...       ...          ...       ...   \n",
      "ID12696   61    0  47025.00        0    1         1            1         1   \n",
      "ID12697   30    0   9672.25        1    1         1            1         0   \n",
      "ID12698   31    0  15976.30        1    1         1            0         0   \n",
      "ID12699   29    1  14711.80        1    0         1            0         1   \n",
      "ID12700   38    1  26671.60        0    1         0            1         1   \n",
      "\n",
      "         region_INNER_CITY  region_RURAL  region_SUBURBAN  region_TOWN  \\\n",
      "id                                                                       \n",
      "ID12101                  1             0                0            0   \n",
      "ID12102                  0             0                0            1   \n",
      "ID12103                  1             0                0            0   \n",
      "ID12104                  0             0                0            1   \n",
      "ID12105                  0             1                0            0   \n",
      "...                    ...           ...              ...          ...   \n",
      "ID12696                  1             0                0            0   \n",
      "ID12697                  1             0                0            0   \n",
      "ID12698                  0             0                0            1   \n",
      "ID12699                  1             0                0            0   \n",
      "ID12700                  0             0                0            1   \n",
      "\n",
      "         children_one  children_three  children_two  children_zero  \n",
      "id                                                                  \n",
      "ID12101             1               0             0              0  \n",
      "ID12102             0               1             0              0  \n",
      "ID12103             0               0             0              1  \n",
      "ID12104             0               1             0              0  \n",
      "ID12105             0               0             0              1  \n",
      "...               ...             ...           ...            ...  \n",
      "ID12696             0               0             1              0  \n",
      "ID12697             0               0             0              1  \n",
      "ID12698             0               0             0              1  \n",
      "ID12699             0               0             0              1  \n",
      "ID12700             0               0             0              1  \n",
      "\n",
      "[600 rows x 16 columns]\n"
     ]
    }
   ],
   "source": [
    "\n",
    "X = df_num.drop(columns=['pep'])\n",
    "y = df_num['pep'].values\n",
    "print(X)\n",
    "from sklearn.model_selection import train_test_split\n",
    "\n",
    "#split dataset into train and test data\n",
    "X_train, X_test, y_train, y_test = train_test_split(X, y, test_size=0.33)\n",
    "#20% as test population"
   ]
  },
  {
   "cell_type": "markdown",
   "metadata": {},
   "source": [
    "## 1.2. Classifiers\n",
    "We learned about the following classifiers: \n",
    "- __Logistic Regression__\n",
    "- __Support Vector Machines__\n",
    "- __Decision Trees__\n",
    "- __k-Nearest Neighbors__\n",
    "- __Naive Bayes__\n",
    "\n",
    "We explore each classifier in turn, trying to build the model with the best accuracy for the test set.\n",
    "We compare classifiers using 10-20 fold cross validation. Do not forget to normalize numeric attributes. After each experiment, use statistical comparison to find out if the current classifier is better than the previous one.\n",
    "\n",
    "__The best score that I managed to achieve was 89.7. So you should not settle for anything less than 89.5.__\n",
    "\n",
    "Document all your experiments in the cells below."
   ]
  },
  {
   "cell_type": "markdown",
   "metadata": {},
   "source": [
    "### Classifiers that work only with numeric attributes\n",
    "\n",
    "### K-NN\n",
    "Use all your knowledge from the K-NN lab to build the K-NN classifier with the best prediction rate. "
   ]
  },
  {
   "cell_type": "markdown",
   "metadata": {},
   "source": [
    "Baseline experiement"
   ]
  },
  {
   "cell_type": "code",
   "execution_count": 36,
   "metadata": {},
   "outputs": [
    {
     "name": "stdout",
     "output_type": "stream",
     "text": [
      "0.7587064676616916\n",
      "0.5656565656565656\n"
     ]
    }
   ],
   "source": [
    "from sklearn.neighbors import KNeighborsClassifier\n",
    "#use regressor as our target is a number.see 1.6.3\n",
    "knn = KNeighborsClassifier(n_neighbors=3)\n",
    "knn.fit(X_train, y_train)\n",
    "print(knn.score(X_train, y_train))\n",
    "print(knn.score(X_test, y_test))"
   ]
  },
  {
   "cell_type": "markdown",
   "metadata": {},
   "source": [
    "Now we need to apply normalization"
   ]
  },
  {
   "cell_type": "code",
   "execution_count": 37,
   "metadata": {},
   "outputs": [],
   "source": [
    "normalized = df_num.copy()\n",
    "for attribute in df_num.columns:\n",
    "    min = df_num[attribute].min()\n",
    "    max = df_num[attribute].max()\n",
    "    divider = max - min\n",
    "    normalized[attribute] = ((normalized[attribute]-min)/divider)\n",
    "X = normalized.drop(columns=['pep'])\n",
    "y = normalized['pep'].values\n",
    "X_train, X_test, y_train, y_test = train_test_split(X, y, test_size=0.33)\n",
    "#print(X,y)\n"
   ]
  },
  {
   "cell_type": "code",
   "execution_count": 38,
   "metadata": {},
   "outputs": [
    {
     "name": "stdout",
     "output_type": "stream",
     "text": [
      "0.8731343283582089\n",
      "0.7575757575757576\n",
      "[0.83333333 0.7        0.7        0.83333333 0.66666667 0.73333333\n",
      " 0.76666667 0.76666667 0.83333333 0.76666667 0.73333333 0.7\n",
      " 0.86666667 0.73333333 0.73333333 0.66666667 0.7        0.63333333\n",
      " 0.73333333 0.73333333]\n",
      "cv_scores mean:0.7416666666666665\n"
     ]
    }
   ],
   "source": [
    "from sklearn.neighbors import KNeighborsClassifier\n",
    "from sklearn.model_selection import cross_val_score\n",
    "#use regressor as our target is a number.see 1.6.3\n",
    "knn = KNeighborsClassifier(n_neighbors=3)\n",
    "knn.fit(X_train, y_train)\n",
    "print(knn.score(X_train, y_train))\n",
    "print(knn.score(X_test, y_test))\n",
    "cv_scores = cross_val_score(knn, X, y, cv=20)\n",
    "\n",
    "#print each cv score (accuracy) and average them\n",
    "print(cv_scores)\n",
    "print('cv_scores mean:{}'.format(np.mean(cv_scores)))"
   ]
  },
  {
   "cell_type": "markdown",
   "metadata": {},
   "source": [
    "So that the default value of K = 3 does not work. Now I start to search for best K values."
   ]
  },
  {
   "cell_type": "code",
   "execution_count": 39,
   "metadata": {},
   "outputs": [
    {
     "name": "stdout",
     "output_type": "stream",
     "text": [
      "{'n_neighbors': 21}\n"
     ]
    }
   ],
   "source": [
    "from sklearn.model_selection import GridSearchCV\n",
    "\n",
    "#create new a knn model\n",
    "new_knn = KNeighborsClassifier()\n",
    "\n",
    "#create a dictionary of all values we want to test for n_neighbors\n",
    "grid_dictionary = {'n_neighbors': np.arange(1,100)}\n",
    "\n",
    "\n",
    "#use gridsearch to test all values for n_neighbors\n",
    "GScv = GridSearchCV(new_knn, grid_dictionary, cv=20)\n",
    "\n",
    "#fit model to data\n",
    "GScv.fit(X,y)\n",
    "\n",
    "print(GScv.best_params_)\n"
   ]
  },
  {
   "cell_type": "code",
   "execution_count": 40,
   "metadata": {},
   "outputs": [
    {
     "name": "stdout",
     "output_type": "stream",
     "text": [
      "{'n_neighbors': 21}\n"
     ]
    }
   ],
   "source": [
    "from sklearn.model_selection import GridSearchCV\n",
    "\n",
    "#create new a knn model\n",
    "new_knn = KNeighborsClassifier(weights=\"distance\")\n",
    "\n",
    "#create a dictionary of all values we want to test for n_neighbors\n",
    "grid_dictionary = {'n_neighbors': np.arange(1,100)}\n",
    "\n",
    "\n",
    "#use gridsearch to test all values for n_neighbors\n",
    "GScv = GridSearchCV(new_knn, grid_dictionary, cv=20)\n",
    "\n",
    "#fit model to data\n",
    "GScv.fit(X,y)\n",
    "\n",
    "print(GScv.best_params_)"
   ]
  },
  {
   "cell_type": "markdown",
   "metadata": {},
   "source": [
    "So that the best value of K is 21 for both weights."
   ]
  },
  {
   "cell_type": "code",
   "execution_count": 41,
   "metadata": {},
   "outputs": [
    {
     "name": "stdout",
     "output_type": "stream",
     "text": [
      "0.763681592039801\n",
      "0.8383838383838383\n",
      "[0.83333333 0.78333333 0.78333333 0.78333333 0.85       0.76666667\n",
      " 0.81666667 0.66666667 0.73333333 0.78333333]\n",
      "cv_scores mean:0.78\n",
      "1.0\n",
      "0.8434343434343434\n",
      "[0.93333333 0.73333333 0.73333333 0.76666667 0.86666667 0.8\n",
      " 0.7        0.83333333 0.86666667 0.86666667 0.76666667 0.76666667\n",
      " 0.86666667 0.76666667 0.73333333 0.73333333 0.76666667 0.73333333\n",
      " 0.83333333 0.8       ]\n",
      "cv_scores mean:0.7933333333333334\n"
     ]
    }
   ],
   "source": [
    "knn = KNeighborsClassifier(n_neighbors=21)\n",
    "knn.fit(X_train, y_train)\n",
    "print(knn.score(X_train, y_train))\n",
    "print(knn.score(X_test, y_test))\n",
    "cv_scores = cross_val_score(knn, X, y, cv=10)\n",
    "\n",
    "#print each cv score (accuracy) and average them\n",
    "print(cv_scores)\n",
    "print('cv_scores mean:{}'.format(np.mean(cv_scores)))\n",
    "\n",
    "\n",
    "knn = KNeighborsClassifier(n_neighbors=21, weights=\"distance\")\n",
    "knn.fit(X_train, y_train)\n",
    "print(knn.score(X_train, y_train))\n",
    "print(knn.score(X_test, y_test))\n",
    "cv_scores = cross_val_score(knn, X, y, cv=20)\n",
    "\n",
    "#print each cv score (accuracy) and average them\n",
    "print(cv_scores)\n",
    "print('cv_scores mean:{}'.format(np.mean(cv_scores)))"
   ]
  },
  {
   "cell_type": "markdown",
   "metadata": {},
   "source": [
    "Now I am trying to add weights using their correlations"
   ]
  },
  {
   "cell_type": "code",
   "execution_count": 42,
   "metadata": {},
   "outputs": [
    {
     "data": {
      "text/plain": [
       "<AxesSubplot:>"
      ]
     },
     "execution_count": 42,
     "metadata": {},
     "output_type": "execute_result"
    },
    {
     "data": {
      "image/png": "[encoded data removed]",
      "text/plain": [
       "<Figure size 720x576 with 2 Axes>"
      ]
     },
     "metadata": {
      "needs_background": "light"
     },
     "output_type": "display_data"
    }
   ],
   "source": [
    "fig, ax = plt.subplots(figsize=(10,8)) \n",
    "corr = normalized.corr()\n",
    "sns.heatmap(corr, center=0, annot=True, linewidths=.1, ax=ax)"
   ]
  },
  {
   "cell_type": "code",
   "execution_count": 43,
   "metadata": {},
   "outputs": [
    {
     "name": "stdout",
     "output_type": "stream",
     "text": [
      "1.0\n",
      "0.5757575757575758\n",
      "[0.6        0.73333333 0.6        0.66666667 0.7        0.63333333\n",
      " 0.63333333 0.7        0.6        0.66666667 0.6        0.7\n",
      " 0.63333333 0.6        0.7        0.66666667 0.63333333 0.56666667\n",
      " 0.6        0.63333333]\n",
      "cv_scores mean:0.6433333333333333\n"
     ]
    }
   ],
   "source": [
    "corr = normalized.corr()\n",
    "weighted = normalized.copy()\n",
    "for attribute in corr.columns:\n",
    "    correlation = corr.iloc[0][attribute]\n",
    "    weighted[attribute] = abs((weighted[attribute])/correlation)\n",
    "X = weighted.drop(columns=['pep'])\n",
    "y = weighted['pep'].values\n",
    "X_train, X_test, y_train, y_test = train_test_split(X, y, test_size=0.33)\n",
    "#print(X,y)\n",
    "#use regressor as our target is a number.see 1.6.3\n",
    "knn = KNeighborsClassifier(n_neighbors=1)\n",
    "knn.fit(X_train, y_train)\n",
    "print(knn.score(X_train, y_train))\n",
    "print(knn.score(X_test, y_test))\n",
    "cv_scores = cross_val_score(knn, X, y, cv=20)\n",
    "\n",
    "#print each cv score (accuracy) and average them\n",
    "print(cv_scores)\n",
    "print('cv_scores mean:{}'.format(np.mean(cv_scores)))\n",
    "\n",
    "\n",
    "#create new a knn model\n"
   ]
  },
  {
   "cell_type": "markdown",
   "metadata": {},
   "source": [
    "A possible reason for this small-increase is that we somewhat make some more important features closer. The justification for only 1 neighbor is below."
   ]
  },
  {
   "cell_type": "code",
   "execution_count": 44,
   "metadata": {},
   "outputs": [
    {
     "name": "stdout",
     "output_type": "stream",
     "text": [
      "{'n_neighbors': 1}\n"
     ]
    }
   ],
   "source": [
    "new_knn = KNeighborsClassifier(weights=\"distance\")\n",
    "\n",
    "#create a dictionary of all values we want to test for n_neighbors\n",
    "grid_dictionary = {'n_neighbors': np.arange(1,100)}\n",
    "\n",
    "\n",
    "#use gridsearch to test all values for n_neighbors\n",
    "GScv = GridSearchCV(new_knn, grid_dictionary, cv=20)\n",
    "\n",
    "#fit model to data\n",
    "GScv.fit(X,y)\n",
    "\n",
    "print(GScv.best_params_)    "
   ]
  },
  {
   "cell_type": "markdown",
   "metadata": {},
   "source": [
    "### Logistic Regression\n",
    "Try Logistic Regression. Try different Expectation Maximization algorithms. Maybe some variations of regularization? \n",
    "\n",
    "Is your Log Regr score better than the K-NN score? Is it significantly better? If the scores do not differ significantly, you may continue with any of them. Otherwise, continue with the better classifier."
   ]
  },
  {
   "cell_type": "code",
   "execution_count": 45,
   "metadata": {},
   "outputs": [],
   "source": [
    "X = normalized.drop(columns=['pep'])\n",
    "y = normalized['pep'].values\n",
    "X_train, X_test, y_train, y_test = train_test_split(X, y, test_size=0.33)"
   ]
  },
  {
   "cell_type": "code",
   "execution_count": 46,
   "metadata": {},
   "outputs": [
    {
     "name": "stdout",
     "output_type": "stream",
     "text": [
      "0.7512437810945274 0.7424242424242424\n",
      "[[ 0.49118493  0.07225463  2.08295967 -0.96067141  0.1585994  -0.79165069\n",
      "   0.05242193 -0.06410494 -0.13812034 -0.00303145  0.50365595 -0.36248055\n",
      "   1.73568838 -1.01545747 -0.22073015 -0.49947715]]\n",
      "[0.8        0.76666667 0.8        0.76666667 0.7        0.66666667\n",
      " 0.6        0.66666667 0.83333333 0.9        0.6        0.73333333\n",
      " 0.73333333 0.76666667 0.56666667 0.7        0.73333333 0.73333333\n",
      " 0.73333333 0.73333333]\n",
      "cv_scores mean:0.7266666666666663\n"
     ]
    }
   ],
   "source": [
    "from sklearn.linear_model import LogisticRegression\n",
    "regr =LogisticRegression(max_iter=1000000000000000000)\n",
    "regr.fit(X_train,y_train)\n",
    "trainscore = regr.score(X_train,y_train)\n",
    "testscore = regr.score(X_test,y_test)\n",
    "print(trainscore,testscore)\n",
    "print(regr.coef_)\n",
    "coef = regr.coef_\n",
    "# regr2 = LogisticRegression()\n",
    "# regr2.fit(X2_train,y_train)\n",
    "# trainscore2 = regr2.score(X2_train,y_train)\n",
    "# testscore2 = regr2.score(X2_test,y_test)\n",
    "# print(trainscore2,testscore2)\n",
    "cv_scores = cross_val_score(regr, X, y, cv=20)\n",
    "print(cv_scores)\n",
    "print('cv_scores mean:{}'.format(np.mean(cv_scores)))"
   ]
  },
  {
   "cell_type": "markdown",
   "metadata": {},
   "source": [
    "So even the most basic logistic regression is better than KNN method. Now I start to try with different classifier parameters"
   ]
  },
  {
   "cell_type": "code",
   "execution_count": 47,
   "metadata": {},
   "outputs": [
    {
     "name": "stdout",
     "output_type": "stream",
     "text": [
      "0.7512437810945274 0.7424242424242424\n",
      "[[ 0.49118493  0.07225463  2.08295967 -0.96067141  0.1585994  -0.79165069\n",
      "   0.05242193 -0.06410494 -0.13812034 -0.00303145  0.50365595 -0.36248055\n",
      "   1.73568838 -1.01545747 -0.22073015 -0.49947715]]\n",
      "[0.8        0.76666667 0.8        0.76666667 0.7        0.66666667\n",
      " 0.6        0.66666667 0.83333333 0.9        0.6        0.73333333\n",
      " 0.73333333 0.76666667 0.56666667 0.7        0.73333333 0.73333333\n",
      " 0.73333333 0.73333333]\n",
      "cv_scores mean:0.7266666666666663\n"
     ]
    }
   ],
   "source": [
    "from sklearn.linear_model import LogisticRegression\n",
    "regr =LogisticRegression(max_iter=1000000000000000000)\n",
    "regr.fit(X_train,y_train)\n",
    "trainscore = regr.score(X_train,y_train)\n",
    "testscore = regr.score(X_test,y_test)\n",
    "print(trainscore,testscore)\n",
    "print(regr.coef_)\n",
    "coef = regr.coef_\n",
    "cv_scores = cross_val_score(regr, X, y, cv=20)\n",
    "print(cv_scores)\n",
    "print('cv_scores mean:{}'.format(np.mean(cv_scores)))"
   ]
  },
  {
   "cell_type": "code",
   "execution_count": 48,
   "metadata": {},
   "outputs": [
    {
     "name": "stdout",
     "output_type": "stream",
     "text": [
      "0.753731343283582 0.7323232323232324\n",
      "[[-0.13181647  0.04494744  3.54547372 -1.05654825  0.1814941  -1.00877362\n",
      "   0.03138535 -0.09474388 -0.17470737 -0.03226934  0.59276297 -0.42087974\n",
      "   2.00960607 -1.27369821 -0.23570259 -0.53529876]]\n",
      "[0.76666667 0.73333333 0.68333333 0.65       0.83333333 0.7\n",
      " 0.73333333 0.61666667 0.76666667 0.7       ]\n",
      "cv_scores mean:0.7183333333333334\n"
     ]
    }
   ],
   "source": [
    "regr =LogisticRegression(penalty=\"none\",max_iter=1000000000000000000)\n",
    "regr.fit(X_train,y_train)\n",
    "trainscore = regr.score(X_train,y_train)\n",
    "testscore = regr.score(X_test,y_test)\n",
    "print(trainscore,testscore)\n",
    "print(regr.coef_)\n",
    "cv_scores = cross_val_score(regr, X, y, cv=10)\n",
    "print(cv_scores)\n",
    "print('cv_scores mean:{}'.format(np.mean(cv_scores)))"
   ]
  },
  {
   "cell_type": "code",
   "execution_count": 49,
   "metadata": {},
   "outputs": [
    {
     "name": "stdout",
     "output_type": "stream",
     "text": [
      "0.753731343283582 0.7323232323232324\n",
      "[[-0.13187309  0.04495886  3.54547054 -1.05655009  0.18149861 -1.00876892\n",
      "   0.03140932 -0.09476264 -0.17470804 -0.03220839  0.59270571 -0.42088727\n",
      "   2.00965266 -1.27376628 -0.23571099 -0.53527337]]\n",
      "[0.76666667 0.73333333 0.68333333 0.65       0.83333333 0.7\n",
      " 0.73333333 0.61666667 0.76666667 0.7       ]\n",
      "cv_scores mean:0.7183333333333334\n"
     ]
    }
   ],
   "source": [
    "regr =LogisticRegression(penalty=\"none\", solver=\"newton-cg\",max_iter=1000000000000000000)\n",
    "regr.fit(X_train,y_train)\n",
    "trainscore = regr.score(X_train,y_train)\n",
    "testscore = regr.score(X_test,y_test)\n",
    "print(trainscore,testscore)\n",
    "print(regr.coef_)\n",
    "cv_scores = cross_val_score(regr, X, y, cv=10)\n",
    "print(cv_scores)\n",
    "print('cv_scores mean:{}'.format(np.mean(cv_scores)))"
   ]
  },
  {
   "cell_type": "code",
   "execution_count": 50,
   "metadata": {},
   "outputs": [
    {
     "name": "stdout",
     "output_type": "stream",
     "text": [
      "0.7512437810945274 0.7424242424242424\n",
      "[[ 0.4912313   0.07226496  2.08291618 -0.96065476  0.15860394 -0.79164315\n",
      "   0.05244024 -0.06409965 -0.138115   -0.00303319  0.50363981 -0.36249247\n",
      "   1.73567395 -1.01547061 -0.22072631 -0.49947789]]\n",
      "[0.78333333 0.78333333 0.7        0.63333333 0.81666667 0.68333333\n",
      " 0.73333333 0.63333333 0.73333333 0.7       ]\n",
      "cv_scores mean:0.72\n"
     ]
    }
   ],
   "source": [
    "regr =LogisticRegression(penalty=\"l2\", solver=\"newton-cg\",max_iter=1000000000)\n",
    "regr.fit(X_train,y_train)\n",
    "trainscore = regr.score(X_train,y_train)\n",
    "testscore = regr.score(X_test,y_test)\n",
    "print(trainscore,testscore)\n",
    "print(regr.coef_)\n",
    "cv_scores = cross_val_score(regr, X, y, cv=10)\n",
    "print(cv_scores)\n",
    "print('cv_scores mean:{}'.format(np.mean(cv_scores)))"
   ]
  },
  {
   "cell_type": "code",
   "execution_count": 51,
   "metadata": {},
   "outputs": [
    {
     "name": "stdout",
     "output_type": "stream",
     "text": [
      "0.7512437810945274 0.7424242424242424\n",
      "[[ 0.48994148  0.07158477  2.08223052 -0.96167905  0.15800105 -0.79226862\n",
      "   0.0509673  -0.06464021 -0.14495727 -0.0096679   0.49751509 -0.36916398\n",
      "   1.72918153 -1.02172571 -0.22742384 -0.50630604]]\n",
      "[0.78333333 0.78333333 0.7        0.63333333 0.81666667 0.68333333\n",
      " 0.73333333 0.63333333 0.73333333 0.7       ]\n",
      "cv_scores mean:0.72\n"
     ]
    }
   ],
   "source": [
    "regr =LogisticRegression(penalty=\"l2\", solver=\"liblinear\",max_iter=1000000)\n",
    "regr.fit(X_train,y_train)\n",
    "trainscore = regr.score(X_train,y_train)\n",
    "testscore = regr.score(X_test,y_test)\n",
    "print(trainscore,testscore)\n",
    "print(regr.coef_)\n",
    "cv_scores = cross_val_score(regr, X, y, cv=10)\n",
    "print(cv_scores)\n",
    "print('cv_scores mean:{}'.format(np.mean(cv_scores)))"
   ]
  },
  {
   "cell_type": "code",
   "execution_count": 52,
   "metadata": {},
   "outputs": [
    {
     "name": "stdout",
     "output_type": "stream",
     "text": [
      "0.7661691542288557 0.7272727272727273\n",
      "[[ 0.          0.          2.85066372 -1.00783756  0.08786382 -0.86797041\n",
      "   0.         -0.03614104 -0.09559313  0.          0.47196355 -0.31690856\n",
      "   2.05107701 -0.81517574  0.         -0.26897365]]\n",
      "[0.76666667 0.76666667 0.7        0.65       0.83333333 0.68333333\n",
      " 0.71666667 0.63333333 0.75       0.7       ]\n",
      "cv_scores mean:0.72\n"
     ]
    }
   ],
   "source": [
    "regr =LogisticRegression(penalty=\"l1\", solver=\"liblinear\",max_iter=1000000)\n",
    "regr.fit(X_train,y_train)\n",
    "trainscore = regr.score(X_train,y_train)\n",
    "testscore = regr.score(X_test,y_test)\n",
    "print(trainscore,testscore)\n",
    "print(regr.coef_)\n",
    "cv_scores = cross_val_score(regr, X, y, cv=10)\n",
    "print(cv_scores)\n",
    "print('cv_scores mean:{}'.format(np.mean(cv_scores)))"
   ]
  },
  {
   "cell_type": "code",
   "execution_count": 53,
   "metadata": {},
   "outputs": [
    {
     "name": "stdout",
     "output_type": "stream",
     "text": [
      "0.7512437810945274 0.7424242424242424\n",
      "[[ 0.49122845  0.07224412  2.08298446 -0.96067193  0.15849523 -0.79163098\n",
      "   0.05243369 -0.06408607 -0.13811516 -0.00304064  0.50355889 -0.36254009\n",
      "   1.73563844 -1.01547267 -0.22083907 -0.4994637 ]]\n",
      "[0.78333333 0.78333333 0.7        0.63333333 0.81666667 0.68333333\n",
      " 0.73333333 0.63333333 0.73333333 0.7       ]\n",
      "cv_scores mean:0.72\n"
     ]
    }
   ],
   "source": [
    "regr =LogisticRegression(penalty=\"l2\", solver=\"sag\",max_iter=1000000)\n",
    "regr.fit(X_train,y_train)\n",
    "trainscore = regr.score(X_train,y_train)\n",
    "testscore = regr.score(X_test,y_test)\n",
    "print(trainscore,testscore)\n",
    "print(regr.coef_)\n",
    "cv_scores = cross_val_score(regr, X, y, cv=10)\n",
    "print(cv_scores)\n",
    "print('cv_scores mean:{}'.format(np.mean(cv_scores)))"
   ]
  },
  {
   "cell_type": "code",
   "execution_count": 54,
   "metadata": {},
   "outputs": [
    {
     "name": "stdout",
     "output_type": "stream",
     "text": [
      "0.753731343283582 0.7323232323232324\n",
      "[[-0.13175146  0.04492685  3.54550606 -1.05665677  0.18153242 -1.00870069\n",
      "   0.03134369 -0.09470863 -0.17481612 -0.03216657  0.59276367 -0.42089673\n",
      "   2.00955857 -1.2738717  -0.23558128 -0.53522135]]\n",
      "[0.76666667 0.73333333 0.68333333 0.65       0.83333333 0.7\n",
      " 0.73333333 0.61666667 0.76666667 0.7       ]\n",
      "cv_scores mean:0.7183333333333334\n"
     ]
    }
   ],
   "source": [
    "regr =LogisticRegression(penalty=\"none\", solver=\"sag\",max_iter=1000000)\n",
    "regr.fit(X_train,y_train)\n",
    "trainscore = regr.score(X_train,y_train)\n",
    "testscore = regr.score(X_test,y_test)\n",
    "print(trainscore,testscore)\n",
    "print(regr.coef_)\n",
    "cv_scores = cross_val_score(regr, X, y, cv=10)\n",
    "print(cv_scores)\n",
    "print('cv_scores mean:{}'.format(np.mean(cv_scores)))"
   ]
  },
  {
   "cell_type": "code",
   "execution_count": 55,
   "metadata": {},
   "outputs": [
    {
     "name": "stdout",
     "output_type": "stream",
     "text": [
      "0.753731343283582 0.7323232323232324\n",
      "[[-0.13088675  0.04503776  3.54386411 -1.05654196  0.18148985 -1.00863293\n",
      "   0.03143497 -0.09474032 -0.17470336 -0.03218174  0.59262923 -0.42088215\n",
      "   2.00953985 -1.27367653 -0.23571629 -0.53528505]]\n",
      "[0.76666667 0.73333333 0.68333333 0.65       0.83333333 0.7\n",
      " 0.73333333 0.61666667 0.76666667 0.7       ]\n",
      "cv_scores mean:0.7183333333333334\n"
     ]
    }
   ],
   "source": [
    "regr =LogisticRegression(penalty=\"none\", solver=\"saga\",max_iter=1000000)\n",
    "regr.fit(X_train,y_train)\n",
    "trainscore = regr.score(X_train,y_train)\n",
    "testscore = regr.score(X_test,y_test)\n",
    "print(trainscore,testscore)\n",
    "print(regr.coef_)\n",
    "cv_scores = cross_val_score(regr, X, y, cv=10)\n",
    "print(cv_scores)\n",
    "print('cv_scores mean:{}'.format(np.mean(cv_scores)))"
   ]
  },
  {
   "cell_type": "code",
   "execution_count": 56,
   "metadata": {},
   "outputs": [
    {
     "name": "stdout",
     "output_type": "stream",
     "text": [
      "0.7562189054726368 0.7323232323232324\n",
      "[[ 0.00000000e+00  7.73673689e-04  2.94312839e+00 -9.75520410e-01\n",
      "   1.15225539e-01 -8.40901633e-01  0.00000000e+00 -1.90684691e-02\n",
      "  -1.33587909e-02  0.00000000e+00  5.54364257e-01 -2.37296625e-01\n",
      "   2.09519738e+00 -7.51923117e-01  6.75825621e-04 -2.19732359e-01]]\n",
      "[0.78333333 0.76666667 0.71666667 0.65       0.83333333 0.7\n",
      " 0.71666667 0.63333333 0.75       0.71666667]\n",
      "cv_scores mean:0.7266666666666668\n"
     ]
    }
   ],
   "source": [
    "regr =LogisticRegression(penalty=\"l1\", solver=\"saga\",max_iter=1000000)\n",
    "regr.fit(X_train,y_train)\n",
    "trainscore = regr.score(X_train,y_train)\n",
    "testscore = regr.score(X_test,y_test)\n",
    "print(trainscore,testscore)\n",
    "print(regr.coef_)\n",
    "cv_scores = cross_val_score(regr, X, y, cv=10)\n",
    "print(cv_scores)\n",
    "print('cv_scores mean:{}'.format(np.mean(cv_scores)))"
   ]
  },
  {
   "cell_type": "markdown",
   "metadata": {},
   "source": [
    "So that the best result seems to be 0.7266666666666668 with LogisticRegression(penalty=\"l1\", solver=\"saga\",max_iter=1000000)"
   ]
  },
  {
   "cell_type": "markdown",
   "metadata": {},
   "source": [
    "### Support Vector Machines\n",
    "Try to improve classification with SVM. Compare the scores statistically. COntinue with a better classifier."
   ]
  },
  {
   "cell_type": "code",
   "execution_count": 57,
   "metadata": {},
   "outputs": [
    {
     "name": "stdout",
     "output_type": "stream",
     "text": [
      "0.8706467661691543\n",
      "0.8434343434343434\n",
      "[0.93333333 0.76666667 0.73333333 0.73333333 0.9        0.8\n",
      " 0.73333333 0.9        0.9        0.93333333 0.86666667 0.83333333\n",
      " 0.93333333 0.8        0.73333333 0.8        0.83333333 0.76666667\n",
      " 0.83333333 0.83333333]\n",
      "SVC cv_scores mean:0.8283333333333335\n"
     ]
    }
   ],
   "source": [
    "from sklearn import svm\n",
    "clf = svm.SVC()\n",
    "clf.fit(X_train, y_train)\n",
    "print(clf.score(X_train, y_train))\n",
    "print(clf.score(X_test, y_test))\n",
    "cv_scores = cross_val_score(clf, X, y, cv=20)\n",
    "print(cv_scores)\n",
    "print('SVC cv_scores mean:{}'.format(np.mean(cv_scores)))"
   ]
  },
  {
   "cell_type": "markdown",
   "metadata": {},
   "source": [
    "So it seems that the method is better than logistic regression"
   ]
  },
  {
   "cell_type": "code",
   "execution_count": 58,
   "metadata": {},
   "outputs": [
    {
     "name": "stdout",
     "output_type": "stream",
     "text": [
      "0.7437810945273632\n",
      "0.7373737373737373\n",
      "[0.83333333 0.76666667 0.6        0.7        0.73333333 0.66666667\n",
      " 0.66666667 0.63333333 0.83333333 0.86666667 0.6        0.7\n",
      " 0.7        0.8        0.6        0.73333333 0.7        0.73333333\n",
      " 0.86666667 0.76666667]\n",
      "SVC cv_scores mean:0.725\n"
     ]
    }
   ],
   "source": [
    "from sklearn import svm\n",
    "clf = svm.SVC(kernel='linear')\n",
    "clf.fit(X_train, y_train)\n",
    "print(clf.score(X_train, y_train))\n",
    "print(clf.score(X_test, y_test))\n",
    "cv_scores = cross_val_score(clf, X, y, cv=20)\n",
    "print(cv_scores)\n",
    "print('SVC cv_scores mean:{}'.format(np.mean(cv_scores)))"
   ]
  },
  {
   "cell_type": "code",
   "execution_count": 59,
   "metadata": {},
   "outputs": [
    {
     "name": "stdout",
     "output_type": "stream",
     "text": [
      "0.44776119402985076\n",
      "0.5050505050505051\n",
      "[0.43333333 0.5        0.63333333 0.53333333 0.5        0.53333333\n",
      " 0.4        0.4        0.63333333 0.46666667 0.53333333 0.46666667\n",
      " 0.36666667 0.6        0.2        0.46666667 0.6        0.7\n",
      " 0.5        0.53333333]\n",
      "SVC cv_scores mean:0.4999999999999999\n"
     ]
    }
   ],
   "source": [
    "from sklearn import svm\n",
    "clf = svm.SVC(kernel='sigmoid')\n",
    "clf.fit(X_train, y_train)\n",
    "print(clf.score(X_train, y_train))\n",
    "print(clf.score(X_test, y_test))\n",
    "cv_scores = cross_val_score(clf, X, y, cv=20)\n",
    "print(cv_scores)\n",
    "print('SVC cv_scores mean:{}'.format(np.mean(cv_scores)))"
   ]
  },
  {
   "cell_type": "code",
   "execution_count": 60,
   "metadata": {},
   "outputs": [
    {
     "name": "stdout",
     "output_type": "stream",
     "text": [
      "0.9104477611940298\n",
      "0.8181818181818182\n",
      "[0.9        0.83333333 0.73333333 0.86666667 0.9        0.76666667\n",
      " 0.8        0.9        0.83333333 0.96666667 0.86666667 0.86666667\n",
      " 0.86666667 0.73333333 0.83333333 0.8        0.83333333 0.76666667\n",
      " 0.8        0.8       ]\n",
      "SVC cv_scores mean:0.8333333333333334\n"
     ]
    }
   ],
   "source": [
    "from sklearn import svm\n",
    "clf = svm.SVC(kernel='poly')\n",
    "clf.fit(X_train, y_train)\n",
    "print(clf.score(X_train, y_train))\n",
    "print(clf.score(X_test, y_test))\n",
    "cv_scores = cross_val_score(clf, X, y, cv=20)\n",
    "print(cv_scores)\n",
    "print('SVC cv_scores mean:{}'.format(np.mean(cv_scores)))"
   ]
  },
  {
   "cell_type": "code",
   "execution_count": 61,
   "metadata": {},
   "outputs": [
    {
     "name": "stdout",
     "output_type": "stream",
     "text": [
      "0.8631840796019901\n",
      "0.8282828282828283\n",
      "[0.9        0.8        0.8        0.83333333 0.83333333 0.8\n",
      " 0.76666667 0.86666667 0.8        0.93333333 0.86666667 0.8\n",
      " 0.9        0.8        0.8        0.76666667 0.8        0.83333333\n",
      " 0.86666667 0.8       ]\n",
      "SVC cv_scores mean:0.8283333333333334\n"
     ]
    }
   ],
   "source": [
    "from sklearn import svm\n",
    "clf = svm.SVC(kernel='poly', degree= 2)\n",
    "clf.fit(X_train, y_train)\n",
    "print(clf.score(X_train, y_train))\n",
    "print(clf.score(X_test, y_test))\n",
    "cv_scores = cross_val_score(clf, X, y, cv=20)\n",
    "print(cv_scores)\n",
    "print('SVC cv_scores mean:{}'.format(np.mean(cv_scores)))"
   ]
  },
  {
   "cell_type": "code",
   "execution_count": 62,
   "metadata": {},
   "outputs": [
    {
     "name": "stdout",
     "output_type": "stream",
     "text": [
      "0.945273631840796\n",
      "0.7929292929292929\n",
      "[0.9        0.73333333 0.76666667 0.83333333 0.86666667 0.8\n",
      " 0.76666667 0.9        0.86666667 0.96666667 0.76666667 0.83333333\n",
      " 0.86666667 0.73333333 0.83333333 0.73333333 0.83333333 0.76666667\n",
      " 0.8        0.76666667]\n",
      "SVC cv_scores mean:0.8166666666666668\n"
     ]
    }
   ],
   "source": [
    "from sklearn import svm\n",
    "clf = svm.SVC(kernel='poly', degree=4)\n",
    "clf.fit(X_train, y_train)\n",
    "print(clf.score(X_train, y_train))\n",
    "print(clf.score(X_test, y_test))\n",
    "cv_scores = cross_val_score(clf, X, y, cv=20)\n",
    "print(cv_scores)\n",
    "print('SVC cv_scores mean:{}'.format(np.mean(cv_scores)))"
   ]
  },
  {
   "cell_type": "code",
   "execution_count": 63,
   "metadata": {},
   "outputs": [
    {
     "name": "stdout",
     "output_type": "stream",
     "text": [
      "{'degree': 3}\n"
     ]
    }
   ],
   "source": [
    "from sklearn.model_selection import GridSearchCV\n",
    "\n",
    "#create new a knn model\n",
    "clf = svm.SVC(kernel='poly')\n",
    "\n",
    "#create a dictionary of all values we want to test for n_neighbors\n",
    "grid_dictionary = {'degree': np.arange(1,15,step=1)}\n",
    "\n",
    "\n",
    "#use gridsearch to test all values for n_neighbors\n",
    "GScv = GridSearchCV(clf, grid_dictionary, cv=20)\n",
    "\n",
    "#fit model to data\n",
    "GScv.fit(X,y)\n",
    "\n",
    "print(GScv.best_params_)"
   ]
  },
  {
   "cell_type": "markdown",
   "metadata": {},
   "source": [
    "poly with degree = 3 since they have the highest accuracy as 0.8283"
   ]
  },
  {
   "cell_type": "code",
   "execution_count": 65,
   "metadata": {},
   "outputs": [
    {
     "name": "stdout",
     "output_type": "stream",
     "text": [
      "0.763681592039801\n",
      "0.7525252525252525\n",
      "[0.8        0.76666667 0.76666667 0.66666667 0.8        0.66666667\n",
      " 0.7        0.66666667 0.8        0.76666667 0.66666667 0.7\n",
      " 0.73333333 0.8        0.6        0.76666667 0.7        0.73333333\n",
      " 0.86666667 0.73333333]\n",
      "SVC cv_scores mean:0.735\n"
     ]
    }
   ],
   "source": [
    "clf = svm.SVC(gamma='auto')\n",
    "clf.fit(X_train, y_train)\n",
    "print(clf.score(X_train, y_train))\n",
    "print(clf.score(X_test, y_test))\n",
    "cv_scores = cross_val_score(clf, X, y, cv=20)\n",
    "print(cv_scores)\n",
    "print('SVC cv_scores mean:{}'.format(np.mean(cv_scores)))"
   ]
  },
  {
   "cell_type": "code",
   "execution_count": 97,
   "metadata": {},
   "outputs": [
    {
     "name": "stdout",
     "output_type": "stream",
     "text": [
      "0.6293532338308457\n",
      "0.6262626262626263\n",
      "[0.66666667 0.73333333 0.7        0.6        0.76666667 0.63333333\n",
      " 0.6        0.56666667 0.7        0.73333333 0.63333333 0.66666667\n",
      " 0.56666667 0.66666667 0.6        0.73333333 0.63333333 0.66666667\n",
      " 0.8        0.63333333]\n",
      "SVC cv_scores mean:0.6649999999999999\n"
     ]
    }
   ],
   "source": [
    "clf = svm.SVC(kernel='poly', degree = 3, gamma='auto')\n",
    "clf.fit(X_train, y_train)\n",
    "print(clf.score(X_train, y_train))\n",
    "print(clf.score(X_test, y_test))\n",
    "cv_scores = cross_val_score(clf, X, y, cv=20)\n",
    "print(cv_scores)\n",
    "print('SVC cv_scores mean:{}'.format(np.mean(cv_scores)))"
   ]
  },
  {
   "cell_type": "code",
   "execution_count": 67,
   "metadata": {},
   "outputs": [
    {
     "name": "stdout",
     "output_type": "stream",
     "text": [
      "0.8880597014925373\n",
      "0.8484848484848485\n",
      "[0.93333333 0.73333333 0.73333333 0.73333333 0.9        0.8\n",
      " 0.76666667 0.9        0.86666667 0.93333333 0.86666667 0.86666667\n",
      " 0.93333333 0.8        0.76666667 0.8        0.83333333 0.8\n",
      " 0.83333333 0.83333333]\n",
      "SVC cv_scores mean:0.8316666666666668\n"
     ]
    }
   ],
   "source": [
    "clf = svm.SVC(C=1.5)\n",
    "clf.fit(X_train, y_train)\n",
    "print(clf.score(X_train, y_train))\n",
    "print(clf.score(X_test, y_test))\n",
    "cv_scores = cross_val_score(clf, X, y, cv=20)\n",
    "print(cv_scores)\n",
    "print('SVC cv_scores mean:{}'.format(np.mean(cv_scores)))"
   ]
  },
  {
   "cell_type": "code",
   "execution_count": 68,
   "metadata": {},
   "outputs": [
    {
     "name": "stdout",
     "output_type": "stream",
     "text": [
      "0.9253731343283582\n",
      "0.8232323232323232\n",
      "[0.9        0.76666667 0.76666667 0.86666667 0.9        0.76666667\n",
      " 0.8        0.9        0.83333333 0.96666667 0.83333333 0.86666667\n",
      " 0.83333333 0.73333333 0.83333333 0.76666667 0.83333333 0.76666667\n",
      " 0.8        0.83333333]\n",
      "SVC cv_scores mean:0.8283333333333335\n"
     ]
    }
   ],
   "source": [
    "clf = svm.SVC(kernel='poly', C=1.5)\n",
    "clf.fit(X_train, y_train)\n",
    "print(clf.score(X_train, y_train))\n",
    "print(clf.score(X_test, y_test))\n",
    "cv_scores = cross_val_score(clf, X, y, cv=20)\n",
    "print(cv_scores)\n",
    "print('SVC cv_scores mean:{}'.format(np.mean(cv_scores)))"
   ]
  },
  {
   "cell_type": "markdown",
   "metadata": {},
   "source": [
    "Search for best value of C in polynimial situation"
   ]
  },
  {
   "cell_type": "code",
   "execution_count": 69,
   "metadata": {},
   "outputs": [
    {
     "name": "stdout",
     "output_type": "stream",
     "text": [
      "{'C': 4.400000000000003}\n"
     ]
    }
   ],
   "source": [
    "from sklearn.model_selection import GridSearchCV\n",
    "\n",
    "#create new a knn model\n",
    "clf = svm.SVC(kernel='poly')\n",
    "\n",
    "#create a dictionary of all values we want to test for n_neighbors\n",
    "grid_dictionary = {'C': np.arange(1,20,step=0.1)}\n",
    "\n",
    "\n",
    "#use gridsearch to test all values for n_neighbors\n",
    "GScv = GridSearchCV(clf, grid_dictionary, cv=20)\n",
    "\n",
    "#fit model to data\n",
    "GScv.fit(X,y)\n",
    "\n",
    "print(GScv.best_params_)"
   ]
  },
  {
   "cell_type": "code",
   "execution_count": 70,
   "metadata": {},
   "outputs": [
    {
     "name": "stdout",
     "output_type": "stream",
     "text": [
      "0.9502487562189055\n",
      "0.8181818181818182\n",
      "[0.9        0.76666667 0.83333333 0.9        0.9        0.8\n",
      " 0.83333333 0.86666667 0.86666667 0.96666667 0.8        0.86666667\n",
      " 0.86666667 0.8        0.86666667 0.8        0.83333333 0.8\n",
      " 0.86666667 0.73333333]\n",
      "SVC cv_scores mean:0.8433333333333335\n"
     ]
    }
   ],
   "source": [
    "clf = svm.SVC(kernel='poly', C=4.4)\n",
    "clf.fit(X_train, y_train)\n",
    "print(clf.score(X_train, y_train))\n",
    "print(clf.score(X_test, y_test))\n",
    "cv_scores = cross_val_score(clf, X, y, cv=20)\n",
    "print(cv_scores)\n",
    "print('SVC cv_scores mean:{}'.format(np.mean(cv_scores)))"
   ]
  },
  {
   "cell_type": "markdown",
   "metadata": {},
   "source": [
    "Search for best C for non-polynomial method"
   ]
  },
  {
   "cell_type": "code",
   "execution_count": 71,
   "metadata": {},
   "outputs": [
    {
     "name": "stdout",
     "output_type": "stream",
     "text": [
      "{'C': 2.4000000000000012}\n"
     ]
    }
   ],
   "source": [
    "from sklearn.model_selection import GridSearchCV\n",
    "\n",
    "#create new a knn model\n",
    "clf = svm.SVC()\n",
    "\n",
    "#create a dictionary of all values we want to test for n_neighbors\n",
    "grid_dictionary = {'C': np.arange(1,20,step = 0.1)}\n",
    "\n",
    "\n",
    "#use gridsearch to test all values for n_neighbors\n",
    "GScv = GridSearchCV(clf, grid_dictionary, cv=20)\n",
    "\n",
    "#fit model to data\n",
    "GScv.fit(X,y)\n",
    "\n",
    "print(GScv.best_params_)"
   ]
  },
  {
   "cell_type": "code",
   "execution_count": 72,
   "metadata": {},
   "outputs": [
    {
     "name": "stdout",
     "output_type": "stream",
     "text": [
      "0.9079601990049752\n",
      "0.8383838383838383\n",
      "[0.93333333 0.8        0.73333333 0.8        0.9        0.83333333\n",
      " 0.8        0.93333333 0.86666667 0.96666667 0.9        0.83333333\n",
      " 0.86666667 0.8        0.83333333 0.8        0.86666667 0.8\n",
      " 0.83333333 0.83333333]\n",
      "SVC cv_scores mean:0.8466666666666667\n"
     ]
    }
   ],
   "source": [
    "clf = svm.SVC(C=2.4)\n",
    "clf.fit(X_train, y_train)\n",
    "print(clf.score(X_train, y_train))\n",
    "print(clf.score(X_test, y_test))\n",
    "cv_scores = cross_val_score(clf, X, y, cv=20)\n",
    "print(cv_scores)\n",
    "print('SVC cv_scores mean:{}'.format(np.mean(cv_scores)))"
   ]
  },
  {
   "cell_type": "markdown",
   "metadata": {},
   "source": [
    "The overall best result is C = 2.4 for SVC"
   ]
  },
  {
   "cell_type": "markdown",
   "metadata": {},
   "source": [
    "### Classifiers that work with both numeric and categorical attributes\n",
    "### Naive Bayes\n",
    "We can use Naive Bayes classifier on the original dataset without replacing categorical values with numeric ones. \n",
    "Think which parameters still need to be adjusted. Maybe try binning income and age into categorical bins. Try Naive Bayes classifier. Adjust parameters. Maybe you can use a ROC curve to set a different classification threshold? Select the best classifer so far."
   ]
  },
  {
   "cell_type": "markdown",
   "metadata": {},
   "source": [
    "Start with catagorize the data"
   ]
  },
  {
   "cell_type": "code",
   "execution_count": 73,
   "metadata": {},
   "outputs": [
    {
     "name": "stdout",
     "output_type": "stream",
     "text": [
      "id\n",
      "ID12101    7\n",
      "ID12102    5\n",
      "ID12103    7\n",
      "ID12104    2\n",
      "ID12105    8\n",
      "          ..\n",
      "ID12696    9\n",
      "ID12697    3\n",
      "ID12698    3\n",
      "ID12699    3\n",
      "ID12700    5\n",
      "Name: age, Length: 600, dtype: category\n",
      "Categories (10, int64): [1 < 2 < 3 < 4 ... 7 < 8 < 9 < 10]\n"
     ]
    }
   ],
   "source": [
    "categorical = data.copy()\n",
    "\n",
    "categorical['sex'].replace(['FEMALE', 'MALE'], [0,1], inplace=True)\n",
    "\n",
    "categorical['married'].replace(['NO', 'YES'], [0,1], inplace=True)\n",
    "categorical['car'].replace(['NO', 'YES'], [0,1], inplace=True)\n",
    "categorical['save_act'].replace(['NO', 'YES'], [0,1], inplace=True)\n",
    "categorical['current_act'].replace(['NO', 'YES'], [0,1], inplace=True)\n",
    "categorical['mortgage'].replace(['NO', 'YES'], [0,1], inplace=True)\n",
    "categorical['pep'].replace(['NO', 'YES'], [0,1], inplace=True)\n",
    "categorical['region'].replace(['INNER_CITY', 'TOWN', 'RURAL', 'SUBURBAN'], [0,1,2,3], inplace=True)\n",
    "\n",
    "labels = [1,2,3,4,5,6,7,8,9,10]\n",
    "categorical[\"age\"] = pd.cut(categorical[\"age\"], bins= 10, labels = labels,duplicates= 'drop')\n",
    "categorical[\"income\"] = pd.cut(categorical[\"income\"], bins= 10, labels = labels, duplicates= 'drop')\n",
    "print(categorical[\"age\"])\n",
    "X_cat = np.array(categorical.iloc[:, 1:])\n",
    "\n",
    "y_cat = np.array(categorical.iloc[:, 0])\n",
    "\n",
    "X2_train, X2_test, y2_train, y2_test = train_test_split(X_cat, y_cat, test_size=0.33)"
   ]
  },
  {
   "cell_type": "code",
   "execution_count": 74,
   "metadata": {},
   "outputs": [
    {
     "name": "stdout",
     "output_type": "stream",
     "text": [
      "0.26616915422885573\n",
      "0.23737373737373738\n",
      "[0.2        0.36666667 0.16666667 0.13333333 0.23333333 0.13333333\n",
      " 0.2        0.2        0.26666667 0.16666667 0.23333333 0.3\n",
      " 0.23333333 0.2        0.13333333 0.2        0.33333333 0.2\n",
      " 0.23333333 0.2       ]\n",
      "Multinomiual cv_scores mean:0.2166666666666667\n",
      "0.32587064676616917\n",
      "0.2727272727272727\n",
      "[0.33333333 0.23333333 0.2        0.13333333 0.23333333 0.23333333\n",
      " 0.23333333 0.23333333 0.23333333 0.3        0.2        0.23333333\n",
      " 0.2        0.33333333 0.2        0.36666667 0.33333333 0.23333333\n",
      " 0.33333333 0.26666667]\n",
      "Gaussian cv_scores mean:0.2533333333333333\n"
     ]
    }
   ],
   "source": [
    "from sklearn.naive_bayes import MultinomialNB, GaussianNB, CategoricalNB\n",
    "mclf = MultinomialNB()\n",
    "mclf.fit(X2_train, y2_train)\n",
    "train_score = mclf.score(X2_train, y2_train)\n",
    "print(train_score)\n",
    "test_score = mclf.score(X2_test,y2_test)\n",
    "print(test_score)\n",
    "cv_scores = cross_val_score(mclf, X_cat, y_cat, cv=20)\n",
    "print(cv_scores)\n",
    "print('Multinomiual cv_scores mean:{}'.format(np.mean(cv_scores)))\n",
    "\n",
    "\n",
    "gclf = GaussianNB()\n",
    "gclf.fit(X2_train, y2_train)\n",
    "train_score = gclf.score(X2_train, y2_train)\n",
    "print(train_score)\n",
    "test_score = gclf.score(X2_test,y2_test)\n",
    "print(test_score)\n",
    "cv_scores = cross_val_score(gclf, X_cat, y_cat, cv=20)\n",
    "print(cv_scores)\n",
    "print('Gaussian cv_scores mean:{}'.format(np.mean(cv_scores)))\n"
   ]
  },
  {
   "cell_type": "markdown",
   "metadata": {},
   "source": [
    "It seems horrible and I have no great idea about why. Thus, I decided not to go further with it."
   ]
  },
  {
   "cell_type": "markdown",
   "metadata": {},
   "source": [
    "### Decision tree\n",
    "Unfortunately the sklearn implementation of the decision tree does not take the full advantage of the decision tree power. The sklearn implementation does not work with categorical attributes. You can of course use it on the numeric dataset. The reesults however will be discouraging. Nevertheless try it, play with parameters.\n",
    "\n",
    "You have of course the option of using our custom Decision tree code. You can look at the decision tree produced by our custom code to determine which attributes are most important for classification. You can then reweight them, or even get rid of some attributes and repeat your experiments with all the five classifiers. As a matter of fact, using only a subset of attributes identified this way I was able to improve the classification score.\n",
    "\n",
    "You can also use our custom decision tree as a final classifier, but it requires additional coding to produce probability of class prediction and to evaluate the performance. So do it only if you have time (and desire)."
   ]
  },
  {
   "cell_type": "markdown",
   "metadata": {},
   "source": [
    "A brief view on Decision tree classifier"
   ]
  },
  {
   "cell_type": "code",
   "execution_count": 75,
   "metadata": {},
   "outputs": [
    {
     "name": "stdout",
     "output_type": "stream",
     "text": [
      "1.0\n",
      "0.797979797979798\n",
      "[0.76666667 0.86666667 0.83333333 0.8        0.86666667 0.76666667\n",
      " 0.8        0.73333333 0.86666667 0.9        0.83333333 0.83333333\n",
      " 0.83333333 0.83333333 0.8        0.83333333 0.76666667 0.8\n",
      " 0.8        0.83333333]\n",
      "Decision Tree cv_scores mean:0.8183333333333334\n"
     ]
    },
    {
     "data": {
      "image/png": "[encoded data removed]",
      "text/plain": [
       "<Figure size 432x288 with 1 Axes>"
      ]
     },
     "metadata": {
      "needs_background": "light"
     },
     "output_type": "display_data"
    }
   ],
   "source": [
    "from sklearn.tree import DecisionTreeClassifier\n",
    "dct = DecisionTreeClassifier()\n",
    "dct.fit(X_train, y_train)\n",
    "print(dct.score(X_train, y_train))\n",
    "print(dct.score(X_test, y_test))\n",
    "cv_scores = cross_val_score(dct, X, y, cv=20)\n",
    "print(cv_scores)\n",
    "print('Decision Tree cv_scores mean:{}'.format(np.mean(cv_scores)))\n",
    "from sklearn import tree\n",
    "tree.plot_tree(dct, max_depth = 2)\n",
    "#print the decision tree\n",
    "plt.show()"
   ]
  },
  {
   "cell_type": "markdown",
   "metadata": {},
   "source": [
    "Try differnt criterions"
   ]
  },
  {
   "cell_type": "code",
   "execution_count": 76,
   "metadata": {},
   "outputs": [
    {
     "name": "stdout",
     "output_type": "stream",
     "text": [
      "1.0\n",
      "0.803030303030303\n",
      "[0.8        0.83333333 0.8        0.76666667 0.83333333 0.83333333\n",
      " 0.8        0.86666667 0.86666667 0.86666667 0.93333333 0.8\n",
      " 0.8        0.86666667 0.9        0.86666667 0.83333333 0.73333333\n",
      " 0.83333333 0.8       ]\n",
      "Decision Tree cv_scores mean:0.8316666666666668\n"
     ]
    }
   ],
   "source": [
    "\n",
    "dct = DecisionTreeClassifier(criterion='entropy')\n",
    "dct.fit(X_train, y_train)\n",
    "print(dct.score(X_train, y_train))\n",
    "print(dct.score(X_test, y_test))\n",
    "cv_scores = cross_val_score(dct, X, y, cv=20)\n",
    "print(cv_scores)\n",
    "print('Decision Tree cv_scores mean:{}'.format(np.mean(cv_scores)))"
   ]
  },
  {
   "cell_type": "code",
   "execution_count": 77,
   "metadata": {},
   "outputs": [
    {
     "name": "stdout",
     "output_type": "stream",
     "text": [
      "1.0\n",
      "0.8484848484848485\n",
      "[0.8        0.83333333 0.63333333 0.76666667 0.83333333 0.8\n",
      " 0.8        0.86666667 0.8        0.83333333 0.76666667 0.83333333\n",
      " 0.8        0.8        0.76666667 0.8        0.76666667 0.66666667\n",
      " 0.76666667 0.73333333]\n",
      "Decision Tree cv_scores mean:0.7833333333333334\n"
     ]
    }
   ],
   "source": [
    "\n",
    "dct = DecisionTreeClassifier(criterion='entropy', splitter = \"random\")\n",
    "dct.fit(X_train, y_train)\n",
    "print(dct.score(X_train, y_train))\n",
    "print(dct.score(X_test, y_test))\n",
    "cv_scores = cross_val_score(dct, X, y, cv=20)\n",
    "print(cv_scores)\n",
    "print('Decision Tree cv_scores mean:{}'.format(np.mean(cv_scores)))"
   ]
  },
  {
   "cell_type": "code",
   "execution_count": 78,
   "metadata": {},
   "outputs": [
    {
     "name": "stdout",
     "output_type": "stream",
     "text": [
      "0.9900497512437811\n",
      "0.7929292929292929\n",
      "[0.8        0.9        0.83333333 0.8        0.83333333 0.83333333\n",
      " 0.83333333 0.86666667 0.86666667 0.86666667 0.86666667 0.83333333\n",
      " 0.73333333 0.8        0.86666667 0.83333333 0.8        0.73333333\n",
      " 0.83333333 0.83333333]\n",
      "Decision Tree cv_scores mean:0.8283333333333334\n"
     ]
    }
   ],
   "source": [
    "\n",
    "dct = DecisionTreeClassifier(criterion='entropy', min_samples_split=3)\n",
    "dct.fit(X_train, y_train)\n",
    "print(dct.score(X_train, y_train))\n",
    "print(dct.score(X_test, y_test))\n",
    "cv_scores = cross_val_score(dct, X, y, cv=20)\n",
    "print(cv_scores)\n",
    "print('Decision Tree cv_scores mean:{}'.format(np.mean(cv_scores)))"
   ]
  },
  {
   "cell_type": "markdown",
   "metadata": {},
   "source": [
    "In previous method the best criteria is entropy, and log_loss cannot apply to this method. I now start to test for best \"min_samples_split\""
   ]
  },
  {
   "cell_type": "code",
   "execution_count": 79,
   "metadata": {},
   "outputs": [
    {
     "name": "stdout",
     "output_type": "stream",
     "text": [
      "{'min_samples_split': 15}\n"
     ]
    }
   ],
   "source": [
    "\n",
    "from sklearn.model_selection import GridSearchCV\n",
    "\n",
    "#create new a knn model\n",
    "clf = DecisionTreeClassifier(criterion='entropy')\n",
    "\n",
    "#create a dictionary of all values we want to test for n_neighbors\n",
    "grid_dictionary = {'min_samples_split': np.arange(2,20)}\n",
    "\n",
    "\n",
    "#use gridsearch to test all values for n_neighbors\n",
    "GScv = GridSearchCV(clf, grid_dictionary, cv=20)\n",
    "\n",
    "#fit model to data\n",
    "GScv.fit(X,y)\n",
    "\n",
    "print(GScv.best_params_)"
   ]
  },
  {
   "cell_type": "code",
   "execution_count": 80,
   "metadata": {},
   "outputs": [
    {
     "name": "stdout",
     "output_type": "stream",
     "text": [
      "0.927860696517413\n",
      "0.8434343434343434\n",
      "[0.83333333 0.8        0.9        0.9        0.86666667 0.83333333\n",
      " 0.8        0.9        0.93333333 0.93333333 1.         0.8\n",
      " 0.9        0.83333333 0.9        0.93333333 0.9        0.86666667\n",
      " 0.93333333 0.86666667]\n",
      "Decision Tree cv_scores mean:0.8816666666666666\n"
     ]
    }
   ],
   "source": [
    "dct = DecisionTreeClassifier(criterion='entropy', min_samples_split=14)\n",
    "dct.fit(X_train, y_train)\n",
    "print(dct.score(X_train, y_train))\n",
    "print(dct.score(X_test, y_test))\n",
    "cv_scores = cross_val_score(dct, X, y, cv=20)\n",
    "print(cv_scores)\n",
    "print('Decision Tree cv_scores mean:{}'.format(np.mean(cv_scores)))"
   ]
  },
  {
   "cell_type": "markdown",
   "metadata": {},
   "source": [
    "The accuracy inproved a lot, and now is the time to test for min_samples_leaf"
   ]
  },
  {
   "cell_type": "code",
   "execution_count": 81,
   "metadata": {},
   "outputs": [
    {
     "name": "stdout",
     "output_type": "stream",
     "text": [
      "{'min_samples_leaf': 4}\n"
     ]
    }
   ],
   "source": [
    "\n",
    "from sklearn.model_selection import GridSearchCV\n",
    "\n",
    "#create new a knn model\n",
    "clf = DecisionTreeClassifier(criterion='entropy', min_samples_split=14)\n",
    "\n",
    "#create a dictionary of all values we want to test for n_neighbors\n",
    "grid_dictionary = {'min_samples_leaf': np.arange(1,20)}\n",
    "\n",
    "\n",
    "#use gridsearch to test all values for n_neighbors\n",
    "GScv = GridSearchCV(clf, grid_dictionary, cv=20)\n",
    "\n",
    "#fit model to data\n",
    "GScv.fit(X,y)\n",
    "\n",
    "print(GScv.best_params_)"
   ]
  },
  {
   "cell_type": "markdown",
   "metadata": {},
   "source": []
  },
  {
   "cell_type": "code",
   "execution_count": 82,
   "metadata": {},
   "outputs": [
    {
     "name": "stdout",
     "output_type": "stream",
     "text": [
      "0.9129353233830846\n",
      "0.8181818181818182\n",
      "[0.93333333 0.76666667 0.9        0.9        0.9        0.9\n",
      " 0.8        0.9        0.93333333 0.96666667 1.         0.9\n",
      " 0.9        0.83333333 0.9        0.93333333 0.93333333 0.86666667\n",
      " 0.9        0.86666667]\n",
      "Decision Tree cv_scores mean:0.8966666666666667\n"
     ]
    }
   ],
   "source": [
    "dct = DecisionTreeClassifier(criterion='entropy', min_samples_split=14,min_samples_leaf=4)\n",
    "dct.fit(X_train, y_train)\n",
    "print(dct.score(X_train, y_train))\n",
    "print(dct.score(X_test, y_test))\n",
    "cv_scores = cross_val_score(dct, X, y, cv=20)\n",
    "print(cv_scores)\n",
    "print('Decision Tree cv_scores mean:{}'.format(np.mean(cv_scores)))"
   ]
  },
  {
   "cell_type": "markdown",
   "metadata": {},
   "source": [
    "The result is even better. Although there still seems to be overfitting"
   ]
  },
  {
   "cell_type": "code",
   "execution_count": 83,
   "metadata": {},
   "outputs": [
    {
     "name": "stdout",
     "output_type": "stream",
     "text": [
      "{'min_weight_fraction_leaf': 0.0}\n"
     ]
    }
   ],
   "source": [
    "from sklearn.model_selection import GridSearchCV\n",
    "\n",
    "#create new a knn model\n",
    "clf = DecisionTreeClassifier(criterion='entropy', min_samples_split=14, min_samples_leaf=4)\n",
    "\n",
    "#create a dictionary of all values we want to test for n_neighbors\n",
    "grid_dictionary = {'min_weight_fraction_leaf': np.arange(0,0.5,step = 0.01)}\n",
    "\n",
    "\n",
    "#use gridsearch to test all values for n_neighbors\n",
    "GScv = GridSearchCV(clf, grid_dictionary, cv=20)\n",
    "\n",
    "#fit model to data\n",
    "GScv.fit(X,y)\n",
    "\n",
    "print(GScv.best_params_)"
   ]
  },
  {
   "cell_type": "markdown",
   "metadata": {},
   "source": [
    "since min_weight_fraction_leaf is default value, I directly go to test for max_features"
   ]
  },
  {
   "cell_type": "code",
   "execution_count": 84,
   "metadata": {},
   "outputs": [
    {
     "name": "stdout",
     "output_type": "stream",
     "text": [
      "{'max_features': 16}\n"
     ]
    },
    {
     "name": "stderr",
     "output_type": "stream",
     "text": [
      "C:\\Users\\10705\\AppData\\Local\\Packages\\PythonSoftwareFoundation.Python.3.9_qbz5n2kfra8p0\\LocalCache\\local-packages\\Python39\\site-packages\\sklearn\\model_selection\\_validation.py:372: FitFailedWarning: \n",
      "680 fits failed out of a total of 1000.\n",
      "The score on these train-test partitions for these parameters will be set to nan.\n",
      "If these failures are not expected, you can try to debug them by setting error_score='raise'.\n",
      "\n",
      "Below are more details about the failures:\n",
      "--------------------------------------------------------------------------------\n",
      "680 fits failed with the following error:\n",
      "Traceback (most recent call last):\n",
      "  File \"C:\\Users\\10705\\AppData\\Local\\Packages\\PythonSoftwareFoundation.Python.3.9_qbz5n2kfra8p0\\LocalCache\\local-packages\\Python39\\site-packages\\sklearn\\model_selection\\_validation.py\", line 681, in _fit_and_score\n",
      "    estimator.fit(X_train, y_train, **fit_params)\n",
      "  File \"C:\\Users\\10705\\AppData\\Local\\Packages\\PythonSoftwareFoundation.Python.3.9_qbz5n2kfra8p0\\LocalCache\\local-packages\\Python39\\site-packages\\sklearn\\tree\\_classes.py\", line 937, in fit\n",
      "    super().fit(\n",
      "  File \"C:\\Users\\10705\\AppData\\Local\\Packages\\PythonSoftwareFoundation.Python.3.9_qbz5n2kfra8p0\\LocalCache\\local-packages\\Python39\\site-packages\\sklearn\\tree\\_classes.py\", line 308, in fit\n",
      "    raise ValueError(\"max_features must be in (0, n_features]\")\n",
      "ValueError: max_features must be in (0, n_features]\n",
      "\n",
      "  warnings.warn(some_fits_failed_message, FitFailedWarning)\n",
      "C:\\Users\\10705\\AppData\\Local\\Packages\\PythonSoftwareFoundation.Python.3.9_qbz5n2kfra8p0\\LocalCache\\local-packages\\Python39\\site-packages\\sklearn\\model_selection\\_search.py:969: UserWarning: One or more of the test scores are non-finite: [       nan 0.65833333 0.71166667 0.72833333 0.765      0.805\n",
      " 0.835      0.81333333 0.83333333 0.855      0.84       0.86666667\n",
      " 0.84666667 0.875      0.875      0.88666667 0.895             nan\n",
      "        nan        nan        nan        nan        nan        nan\n",
      "        nan        nan        nan        nan        nan        nan\n",
      "        nan        nan        nan        nan        nan        nan\n",
      "        nan        nan        nan        nan        nan        nan\n",
      "        nan        nan        nan        nan        nan        nan\n",
      "        nan        nan]\n",
      "  warnings.warn(\n"
     ]
    }
   ],
   "source": [
    "from sklearn.model_selection import GridSearchCV\n",
    "\n",
    "#create new a knn model\n",
    "clf = DecisionTreeClassifier(criterion='entropy', min_samples_split=14, min_samples_leaf=4,min_weight_fraction_leaf=0)\n",
    "\n",
    "#create a dictionary of all values we want to test for n_neighbors\n",
    "grid_dictionary = {'max_features': np.arange(0,50)}\n",
    "\n",
    "\n",
    "#use gridsearch to test all values for n_neighbors\n",
    "GScv = GridSearchCV(clf, grid_dictionary, cv=20)\n",
    "\n",
    "#fit model to data\n",
    "GScv.fit(X,y)\n",
    "\n",
    "print(GScv.best_params_)"
   ]
  },
  {
   "cell_type": "code",
   "execution_count": 85,
   "metadata": {},
   "outputs": [
    {
     "name": "stdout",
     "output_type": "stream",
     "text": [
      "0.9129353233830846\n",
      "0.8181818181818182\n",
      "[0.93333333 0.76666667 0.9        0.9        0.9        0.86666667\n",
      " 0.8        0.9        0.93333333 0.96666667 1.         0.9\n",
      " 0.9        0.83333333 0.9        0.93333333 0.93333333 0.86666667\n",
      " 0.9        0.86666667]\n",
      "Decision Tree cv_scores mean:0.8949999999999999\n"
     ]
    },
    {
     "data": {
      "text/plain": [
       "10"
      ]
     },
     "execution_count": 85,
     "metadata": {},
     "output_type": "execute_result"
    }
   ],
   "source": [
    "dct = DecisionTreeClassifier(criterion='entropy', min_samples_split=14,min_samples_leaf=4,max_features=16)\n",
    "dct.fit(X_train, y_train)\n",
    "print(dct.score(X_train, y_train))\n",
    "print(dct.score(X_test, y_test))\n",
    "cv_scores = cross_val_score(dct, X, y, cv=20)\n",
    "print(cv_scores)\n",
    "print('Decision Tree cv_scores mean:{}'.format(np.mean(cv_scores)))\n",
    "dct.get_depth()"
   ]
  },
  {
   "cell_type": "markdown",
   "metadata": {},
   "source": [
    "Try for max_depth values(I was not expecting it to work at all but it did return something)"
   ]
  },
  {
   "cell_type": "code",
   "execution_count": 86,
   "metadata": {},
   "outputs": [
    {
     "name": "stdout",
     "output_type": "stream",
     "text": [
      "{'max_depth': 14}\n"
     ]
    },
    {
     "name": "stderr",
     "output_type": "stream",
     "text": [
      "C:\\Users\\10705\\AppData\\Local\\Packages\\PythonSoftwareFoundation.Python.3.9_qbz5n2kfra8p0\\LocalCache\\local-packages\\Python39\\site-packages\\sklearn\\model_selection\\_validation.py:372: FitFailedWarning: \n",
      "20 fits failed out of a total of 400.\n",
      "The score on these train-test partitions for these parameters will be set to nan.\n",
      "If these failures are not expected, you can try to debug them by setting error_score='raise'.\n",
      "\n",
      "Below are more details about the failures:\n",
      "--------------------------------------------------------------------------------\n",
      "20 fits failed with the following error:\n",
      "Traceback (most recent call last):\n",
      "  File \"C:\\Users\\10705\\AppData\\Local\\Packages\\PythonSoftwareFoundation.Python.3.9_qbz5n2kfra8p0\\LocalCache\\local-packages\\Python39\\site-packages\\sklearn\\model_selection\\_validation.py\", line 681, in _fit_and_score\n",
      "    estimator.fit(X_train, y_train, **fit_params)\n",
      "  File \"C:\\Users\\10705\\AppData\\Local\\Packages\\PythonSoftwareFoundation.Python.3.9_qbz5n2kfra8p0\\LocalCache\\local-packages\\Python39\\site-packages\\sklearn\\tree\\_classes.py\", line 937, in fit\n",
      "    super().fit(\n",
      "  File \"C:\\Users\\10705\\AppData\\Local\\Packages\\PythonSoftwareFoundation.Python.3.9_qbz5n2kfra8p0\\LocalCache\\local-packages\\Python39\\site-packages\\sklearn\\tree\\_classes.py\", line 306, in fit\n",
      "    raise ValueError(\"max_depth must be greater than zero. \")\n",
      "ValueError: max_depth must be greater than zero. \n",
      "\n",
      "  warnings.warn(some_fits_failed_message, FitFailedWarning)\n",
      "C:\\Users\\10705\\AppData\\Local\\Packages\\PythonSoftwareFoundation.Python.3.9_qbz5n2kfra8p0\\LocalCache\\local-packages\\Python39\\site-packages\\sklearn\\model_selection\\_search.py:969: UserWarning: One or more of the test scores are non-finite: [       nan 0.685      0.725      0.71666667 0.82333333 0.855\n",
      " 0.87666667 0.89333333 0.895      0.895      0.895      0.895\n",
      " 0.89666667 0.895      0.89833333 0.89333333 0.89666667 0.895\n",
      " 0.89666667 0.895     ]\n",
      "  warnings.warn(\n"
     ]
    }
   ],
   "source": [
    "\n",
    "clf = DecisionTreeClassifier(criterion='entropy', min_samples_split=14,min_samples_leaf=4,max_features=16)\n",
    "\n",
    "#create a dictionary of all values we want to test for n_neighbors\n",
    "grid_dictionary = {'max_depth': np.arange(0,20)}\n",
    "\n",
    "\n",
    "#use gridsearch to test all values for n_neighbors\n",
    "GScv = GridSearchCV(clf, grid_dictionary, cv=20)\n",
    "\n",
    "#fit model to data\n",
    "GScv.fit(X,y)\n",
    "\n",
    "print(GScv.best_params_)"
   ]
  },
  {
   "cell_type": "code",
   "execution_count": 87,
   "metadata": {},
   "outputs": [
    {
     "name": "stdout",
     "output_type": "stream",
     "text": [
      "0.9129353233830846\n",
      "0.8181818181818182\n",
      "[0.93333333 0.76666667 0.9        0.9        0.9        0.86666667\n",
      " 0.8        0.9        0.93333333 0.96666667 1.         0.9\n",
      " 0.9        0.83333333 0.9        0.93333333 0.93333333 0.86666667\n",
      " 0.9        0.86666667]\n",
      "Decision Tree cv_scores mean:0.8949999999999999\n"
     ]
    }
   ],
   "source": [
    "dct = DecisionTreeClassifier(criterion='entropy', min_samples_split=14,min_samples_leaf=4,max_features=16,max_depth=8)\n",
    "dct.fit(X_train, y_train)\n",
    "print(dct.score(X_train, y_train))\n",
    "print(dct.score(X_test, y_test))\n",
    "cv_scores = cross_val_score(dct, X, y, cv=20)\n",
    "print(cv_scores)\n",
    "print('Decision Tree cv_scores mean:{}'.format(np.mean(cv_scores)))"
   ]
  },
  {
   "cell_type": "markdown",
   "metadata": {},
   "source": [
    "No improvement, now try the last criteria"
   ]
  },
  {
   "cell_type": "code",
   "execution_count": 88,
   "metadata": {},
   "outputs": [
    {
     "name": "stdout",
     "output_type": "stream",
     "text": [
      "{'max_leaf_nodes': 25}\n"
     ]
    },
    {
     "name": "stderr",
     "output_type": "stream",
     "text": [
      "C:\\Users\\10705\\AppData\\Local\\Packages\\PythonSoftwareFoundation.Python.3.9_qbz5n2kfra8p0\\LocalCache\\local-packages\\Python39\\site-packages\\sklearn\\model_selection\\_validation.py:372: FitFailedWarning: \n",
      "20 fits failed out of a total of 3980.\n",
      "The score on these train-test partitions for these parameters will be set to nan.\n",
      "If these failures are not expected, you can try to debug them by setting error_score='raise'.\n",
      "\n",
      "Below are more details about the failures:\n",
      "--------------------------------------------------------------------------------\n",
      "20 fits failed with the following error:\n",
      "Traceback (most recent call last):\n",
      "  File \"C:\\Users\\10705\\AppData\\Local\\Packages\\PythonSoftwareFoundation.Python.3.9_qbz5n2kfra8p0\\LocalCache\\local-packages\\Python39\\site-packages\\sklearn\\model_selection\\_validation.py\", line 681, in _fit_and_score\n",
      "    estimator.fit(X_train, y_train, **fit_params)\n",
      "  File \"C:\\Users\\10705\\AppData\\Local\\Packages\\PythonSoftwareFoundation.Python.3.9_qbz5n2kfra8p0\\LocalCache\\local-packages\\Python39\\site-packages\\sklearn\\tree\\_classes.py\", line 937, in fit\n",
      "    super().fit(\n",
      "  File \"C:\\Users\\10705\\AppData\\Local\\Packages\\PythonSoftwareFoundation.Python.3.9_qbz5n2kfra8p0\\LocalCache\\local-packages\\Python39\\site-packages\\sklearn\\tree\\_classes.py\", line 314, in fit\n",
      "    raise ValueError(\n",
      "ValueError: max_leaf_nodes 1 must be either None or larger than 1\n",
      "\n",
      "  warnings.warn(some_fits_failed_message, FitFailedWarning)\n",
      "C:\\Users\\10705\\AppData\\Local\\Packages\\PythonSoftwareFoundation.Python.3.9_qbz5n2kfra8p0\\LocalCache\\local-packages\\Python39\\site-packages\\sklearn\\model_selection\\_search.py:969: UserWarning: One or more of the test scores are non-finite: [       nan 0.685      0.70833333 0.725      0.72666667 0.77333333\n",
      " 0.805      0.80166667 0.805      0.815      0.82       0.83166667\n",
      " 0.85666667 0.85166667 0.85833333 0.86166667 0.86833333 0.88\n",
      " 0.88       0.87833333 0.88666667 0.89       0.89       0.895\n",
      " 0.89833333 0.89833333 0.895      0.89666667 0.895      0.89333333\n",
      " 0.895      0.89833333 0.89333333 0.89833333 0.895      0.89666667\n",
      " 0.89666667 0.895      0.89833333 0.895      0.89666667 0.895\n",
      " 0.89666667 0.89833333 0.895      0.89333333 0.89666667 0.89666667\n",
      " 0.89333333 0.89333333 0.89666667 0.89333333 0.895      0.89666667\n",
      " 0.89333333 0.89833333 0.89666667 0.89666667 0.89666667 0.89666667\n",
      " 0.895      0.89833333 0.89833333 0.89833333 0.89833333 0.895\n",
      " 0.89333333 0.89666667 0.89666667 0.89666667 0.89666667 0.89833333\n",
      " 0.89666667 0.89833333 0.895      0.895      0.895      0.89666667\n",
      " 0.89333333 0.895      0.89666667 0.89666667 0.89666667 0.89333333\n",
      " 0.89666667 0.895      0.895      0.895      0.895      0.89833333\n",
      " 0.89666667 0.89833333 0.895      0.895      0.89333333 0.89666667\n",
      " 0.89666667 0.895      0.89666667 0.895      0.89666667 0.895\n",
      " 0.89333333 0.89666667 0.895      0.895      0.895      0.89333333\n",
      " 0.89833333 0.89333333 0.895      0.89333333 0.89666667 0.89666667\n",
      " 0.895      0.895      0.89666667 0.89333333 0.89666667 0.89666667\n",
      " 0.89666667 0.89666667 0.89333333 0.895      0.89666667 0.89666667\n",
      " 0.89333333 0.89666667 0.895      0.89666667 0.89666667 0.89666667\n",
      " 0.895      0.89666667 0.89833333 0.89666667 0.89666667 0.895\n",
      " 0.895      0.89666667 0.895      0.89833333 0.89666667 0.895\n",
      " 0.89666667 0.89666667 0.89833333 0.89666667 0.89666667 0.89666667\n",
      " 0.895      0.895      0.89666667 0.89666667 0.89333333 0.895\n",
      " 0.89833333 0.89666667 0.895      0.89666667 0.89833333 0.89666667\n",
      " 0.89666667 0.89666667 0.89833333 0.89333333 0.89666667 0.89833333\n",
      " 0.895      0.89666667 0.895      0.895      0.89666667 0.89666667\n",
      " 0.895      0.89833333 0.89666667 0.895      0.89666667 0.89666667\n",
      " 0.895      0.895      0.895      0.895      0.895      0.895\n",
      " 0.89666667 0.89666667 0.89333333 0.89833333 0.89666667 0.89666667\n",
      " 0.89666667 0.89666667 0.89666667 0.895      0.89833333 0.89333333\n",
      " 0.89666667]\n",
      "  warnings.warn(\n"
     ]
    }
   ],
   "source": [
    "\n",
    "clf = DecisionTreeClassifier(criterion='entropy', min_samples_split=14,min_samples_leaf=4,max_features=16)\n",
    "\n",
    "#create a dictionary of all values we want to test for n_neighbors\n",
    "grid_dictionary = {'max_leaf_nodes': np.arange(1,200)}\n",
    "\n",
    "\n",
    "#use gridsearch to test all values for n_neighbors\n",
    "GScv = GridSearchCV(clf, grid_dictionary, cv=20)\n",
    "\n",
    "#fit model to data\n",
    "GScv.fit(X,y)\n",
    "\n",
    "print(GScv.best_params_)"
   ]
  },
  {
   "cell_type": "code",
   "execution_count": 89,
   "metadata": {},
   "outputs": [
    {
     "name": "stdout",
     "output_type": "stream",
     "text": [
      "0.9129353233830846\n",
      "0.8181818181818182\n",
      "[0.93333333 0.8        0.9        0.9        0.86666667 0.86666667\n",
      " 0.8        0.9        0.93333333 0.96666667 1.         0.9\n",
      " 0.9        0.83333333 0.9        0.93333333 0.93333333 0.86666667\n",
      " 0.9        0.86666667]\n",
      "Decision Tree cv_scores mean:0.8949999999999999\n"
     ]
    }
   ],
   "source": [
    "dct = DecisionTreeClassifier(criterion='entropy', min_samples_split=14,min_samples_leaf=4,max_features=16,max_leaf_nodes=25)\n",
    "dct.fit(X_train, y_train)\n",
    "print(dct.score(X_train, y_train))\n",
    "print(dct.score(X_test, y_test))\n",
    "cv_scores = cross_val_score(dct, X, y, cv=20)\n",
    "print(cv_scores)\n",
    "print('Decision Tree cv_scores mean:{}'.format(np.mean(cv_scores)))"
   ]
  },
  {
   "cell_type": "markdown",
   "metadata": {},
   "source": [
    "So I finally reached 90% accuracy, with possibly some overfitting? But percentage-wise this is the best result, and I decided to select the criterias I applied. The second best choice is SVC with C = 2.4."
   ]
  },
  {
   "cell_type": "markdown",
   "metadata": {},
   "source": [
    "### SELECT FINAL CLASSIFIER\n",
    "After all the experiments, select the classifier with the best accuracy (you used cross-validation).\n",
    "\n",
    "Now break your dataset into two parts (using 1:2 ratio) and use one part for testing and 2 parts for building the model.\n",
    "\n",
    "After you buid the final model, make the predictions for each instance in the test set, and record these predictions as _PROBABILITIES_ of belonging to the 'pep' class. __Store these predictions in a separate csv file. This is the input for Part II of this mini-project.__"
   ]
  },
  {
   "cell_type": "code",
   "execution_count": 117,
   "metadata": {},
   "outputs": [],
   "source": [
    "X_save = df_num.drop(columns=['pep'])\n",
    "y_save = df_num['pep']\n",
    "from sklearn.model_selection import train_test_split\n",
    "\n",
    "#split dataset into train and test data\n",
    "X_strain, X_stest, y_strain, y_stest = train_test_split(X_save, y_save, test_size=0.33)\n",
    "\n",
    "y_strain = y_strain.values\n",
    "y_stest = y_stest.values"
   ]
  },
  {
   "cell_type": "code",
   "execution_count": 118,
   "metadata": {},
   "outputs": [
    {
     "name": "stdout",
     "output_type": "stream",
     "text": [
      "<class 'numpy.ndarray'>\n",
      "0.8980099502487562\n"
     ]
    }
   ],
   "source": [
    "\n",
    "\n",
    "print(type(y_strain))\n",
    "\n",
    "dct = DecisionTreeClassifier(criterion='entropy', min_samples_split=14,min_samples_leaf=4,max_features=16,max_leaf_nodes=25)\n",
    "dct.fit(X_strain, y_strain)\n",
    "print(dct.score(X_strain, y_strain))\n"
   ]
  },
  {
   "cell_type": "code",
   "execution_count": 119,
   "metadata": {},
   "outputs": [],
   "source": [
    "import pandas as pd\n",
    "y_predict = dct.predict_proba(X_stest)\n",
    "\n",
    "save = pd.DataFrame(y_predict, columns = ['predicted no', 'predicted yes']).reset_index(drop=True)\n",
    "y_actual = pd.DataFrame(y_stest, columns = ['actual yes']).reset_index(drop=True)\n",
    "\n",
    "save = pd.concat([save, y_actual, X_stest.reset_index(drop=True)], axis=1)\n",
    "\n"
   ]
  },
  {
   "cell_type": "code",
   "execution_count": 120,
   "metadata": {},
   "outputs": [],
   "source": [
    "file_name = \"prediction.csv\"\n",
    "save.to_csv(file_name, sep=',')"
   ]
  },
  {
   "cell_type": "markdown",
   "metadata": {},
   "source": [
    "## Part II. Business pitch"
   ]
  },
  {
   "cell_type": "markdown",
   "metadata": {},
   "source": [
    "### Lift chart\n",
    "The result of the previous part is the table of predicted class labels for each instance in the test set. The predictions are expressed in terms of probability of being classified as 'pep' - that is, probability that the respondents buy the equity plan.\n",
    "\n",
    "Our main business proposal is to take a new dataset of potential subscribers, predict their response using our best model, and use only top-ranked customers for the next promotion. \n",
    "\n",
    "Here we want to persuade the bank that targeting selected customers will improve the campaign efficiency: that we can achieve a much better response rate.\n",
    "\n",
    "First, we sort the test dataset by the predicted class - from Yes to No, and then by probability (from highest to the lowest for Yes and from lowest to highest for No). Keep the sorted file separately from the original test set - we need both datasets.\n",
    "\n",
    "Next, we count the number of successfully predicted subscribers, adding for each row in the sorted dataset the cumulative number of customers which responded to the offer. Now, for each number of letter sent we plot the total number of positive responses (see image below for an example). "
   ]
  },
  {
   "cell_type": "markdown",
   "metadata": {},
   "source": [
    "<img src = \"images/counts.png\" text-align=\"center\" width=50%>"
   ]
  },
  {
   "cell_type": "markdown",
   "metadata": {},
   "source": [
    "What can we learn from this chart? The logic is that if we send 10 letters - the success rate of these letters will be high, because 9 out of 10 would reply. If we send 100 letters the success rate would be 69%. However with 100 letters this means 69 new subscribers, and with 10 - only 9. We want to know what is the optimal number of letters to be sent to maximize the profit."
   ]
  },
  {
   "cell_type": "markdown",
   "metadata": {},
   "source": [
    "<img src = \"images/LiftChart.png\" text-align=\"center\" width=50%>"
   ]
  },
  {
   "cell_type": "markdown",
   "metadata": {},
   "source": [
    "For business audience we visualize the results using lift charts, where on the X axis is a number of letters sent, and on the Y axis is the proportion of positive responses for the random mailing and for the mailing which would use the top-ranked customers first. Lift (in the business world) is the ratio of the expected ‘Yes’ responses using the top of predicted list to the number of ‘Yes’ responses from the same number of randomly selected customers. Lift measures the change in the concentration of a target class when the model is applied to the future dataset. Note that if we would send all 180 letters we would have 83 positive responses (46% total success) in both cases.\n",
    "\n",
    "Analyzing this chart, we can see that by sending mails to only 73/180 = 40% of the customers from the top of the ranked list, we should be able to cover 82% of potential responders. \n",
    "\n",
    "Note that we cannot ever cover all 100% of responsive customers, unless we send letters to everybody - our model does not give 100% correct answers."
   ]
  },
  {
   "cell_type": "markdown",
   "metadata": {},
   "source": [
    "__Create the Lift chart from your results, and write a couple of sentences pitching the use of a classifier.__"
   ]
  },
  {
   "cell_type": "code",
   "execution_count": 121,
   "metadata": {},
   "outputs": [
    {
     "data": {
      "image/png": "[encoded data removed]",
      "text/plain": [
       "<Figure size 432x288 with 1 Axes>"
      ]
     },
     "metadata": {
      "needs_background": "light"
     },
     "output_type": "display_data"
    }
   ],
   "source": [
    "usage = save.copy()\n",
    "import matplotlib.pyplot as plt\n",
    "X_plot = []\n",
    "Y_plot = []\n",
    "Y_count = 0\n",
    "Y_sum = save['actual yes'].sum()\n",
    "\n",
    "for i in range(len(X_stest)):\n",
    "    X_plot.append(i+1)\n",
    "    Y_count = Y_count + save['actual yes'][i].astype('int')\n",
    "    Y_plot.append(Y_count/Y_sum * 100)\n",
    "plt.plot(X_plot, Y_plot, label = \"%positive rand\")\n",
    "usage = usage.sort_values('predicted no')\n",
    "values = usage['actual yes'].values\n",
    "#print(save['actual yes'])\n",
    "X_plot1 = []\n",
    "Y_plot1 = []\n",
    "Y_count1 = 0\n",
    "for i in range(len(X_stest)):\n",
    "    X_plot1.append(i+1)\n",
    "    Y_count1 = Y_count1 + values[i]\n",
    "    Y_plot1.append(Y_count1/Y_sum*100)\n",
    "plt.plot(X_plot1, Y_plot1, label = \"%positive predict\")\n",
    "plt.title('Two lines on same graph!')\n",
    "plt.legend()\n",
    "plt.show()"
   ]
  },
  {
   "cell_type": "code",
   "execution_count": 122,
   "metadata": {},
   "outputs": [
    {
     "name": "stdout",
     "output_type": "stream",
     "text": [
      "40.20618556701031 82\n",
      "80.41237113402062 40.20618556701031\n",
      "78.0 39.0\n"
     ]
    }
   ],
   "source": [
    "dif = 0\n",
    "max_at = 0\n",
    "for i in range(len(X_stest)):\n",
    "    if Y_plot1[i]-Y_plot[i] > dif:\n",
    "        dif = Y_plot1[i]-Y_plot[i]\n",
    "        max_at = i+1\n",
    "print(dif, max_at)\n",
    "print(Y_plot1[max_at - 1] , Y_plot[max_at-1])\n",
    "print(Y_plot1[max_at - 1] * Y_sum/100, Y_plot[max_at-1] * Y_sum/100)\n"
   ]
  },
  {
   "cell_type": "markdown",
   "metadata": {},
   "source": [
    "Analyzing this chart, we can see that by sending mails to only 89/198 = 45% of the customers from the top of the ranked list, we should be able to cover 81.1% of potential responders, or 78 pep out of 82 sent. This is much better than selecting customers randomly, which we would only get 40.2% of potential responders, or 39 pep out of 82 sent. Thus, using the classifier do looks beneficial for sending out mails."
   ]
  },
  {
   "cell_type": "markdown",
   "metadata": {},
   "source": [
    "### Cost-benefit analysis"
   ]
  },
  {
   "cell_type": "markdown",
   "metadata": {},
   "source": [
    "Just showing the lift chart might be not enough to persuade bank to apply your classifier. We need to estimate potential revenue.\n",
    "\n",
    "How to choose the optimal number of letters to send? This depends on the:\n",
    "- Cost of each mail: for example, let it be $4\n",
    "- Benefit from each accepted PEP: let it be $15\n",
    "These unrealistic numbers were chosen because of the very small size of the validation dataset – to demonstrate the concept of maximum profit. In real life, the cost of mailing is several cents, and the benefit is hundreds and thousands dollars, but the real datasets of mailings contain millions of records.\n",
    "\n",
    "Then for each row in the sorted table:\n",
    "- We multiply each count of total sent by 4 - the cost of sending\n",
    "- We multiply each positive count by 15 - expected benefit (not everything that we predicted as positive was actually positive, some of our predictions were wrong).\n",
    "- We subtract the cost from the benefit. \n",
    "This produces an expected revenue for a given number of letters sent.\n",
    "\n",
    "In my results sending about 71-73 letters gave the maximum profit of ~ 700 dollars. This profit cannot be achieved by random mailing, this is the profit to our company that we created using machine learning. BTW, what would be the total profit if we sent just 73 letters from the random dataset?\n",
    "\n",
    "__What are your results? Did you manage to generate more profit?__ Briefly discuss your results and what did you learn from this project.\n"
   ]
  },
  {
   "cell_type": "code",
   "execution_count": 123,
   "metadata": {},
   "outputs": [
    {
     "name": "stdout",
     "output_type": "stream",
     "text": [
      "842 82 78\n"
     ]
    }
   ],
   "source": [
    "max_profit = 0\n",
    "profit = 0\n",
    "max_at = 0\n",
    "responded = 0\n",
    "max_responded = 0\n",
    "for i in range(len(X_stest)):\n",
    "    profit = profit - 4 + 15*values[i]\n",
    "    responded = responded + values[i]\n",
    "    if(profit > max_profit):\n",
    "        max_profit = profit\n",
    "        max_at = i+1\n",
    "        max_responded = responded\n",
    "print(max_profit, max_at, max_responded)\n",
    "\n"
   ]
  },
  {
   "cell_type": "markdown",
   "metadata": {},
   "source": [
    "I got more profit when sending 82 letters with 78 responses at $842. Note that different set of data gives different results, but I have tried five times and the profit ranges from 750~842. Thus, the classifier seems to work well."
   ]
  },
  {
   "cell_type": "markdown",
   "metadata": {},
   "source": [
    "Copyright &copy; 2022 Marina Barsky."
   ]
  }
 ],
 "metadata": {
  "interpreter": {
   "hash": "a19cad0692e392a780365fa21200478b38c89ee21da26e29e069cbdb9315e02c"
  },
  "kernelspec": {
   "display_name": "Python 3.9.12 64-bit (windows store)",
   "language": "python",
   "name": "python3"
  },
  "language_info": {
   "codemirror_mode": {
    "name": "ipython",
    "version": 3
   },
   "file_extension": ".py",
   "mimetype": "text/x-python",
   "name": "python",
   "nbconvert_exporter": "python",
   "pygments_lexer": "ipython3",
   "version": "3.9.12"
  }
 },
 "nbformat": 4,
 "nbformat_minor": 4
}
